{
 "cells": [
  {
   "cell_type": "markdown",
   "metadata": {},
   "source": [
    "# Estructuras de datos elementales\n",
    "\n",
    "Los sistemas o métodos de organización de datos que permiten un almacenamiento eficiente de la información en la memoria del computador son conocidos como estructuras de datos. Estos métodos de organización constituyen las piezas básicas para la construcción de algoritmos complejos, y permiten implementarlos de manera eficiente.\n",
    "\n",
    "En el presente capítulo se presentan las estructuras de datos básicas como son arreglos, listas enlazadas y árboles, con las cuales se implementarán posteriormente los _tipos de datos abstractos_."
   ]
  },
  {
   "cell_type": "markdown",
   "metadata": {},
   "source": [
    "## Arreglos\n",
    "\n",
    "Un arreglo es una secuencia contigua en memoria, que almacena un número fijo de elementos homogéneos. En la siguiente figura se muestra un arreglo de enteros con 10 elementos:\n",
    "\n",
    "![ejemplo-arreglo](ejemplo-arreglo.png)\n",
    "\n",
    "Una ventaja que tienen los arreglos es que el costo de acceso a un elemento dado del arreglo es constante, es decir no hay diferencias de costo entre accesar el primer, el último o cualquier elemento del arreglo, lo cual es muy eficiente. La desventaja es que es necesario definir a priori el tamaño del arreglo, lo cual puede generar mucha pérdida de espacio en memoria si se definen arreglos muy grandes para contener conjuntos pequeños de elementos.\n",
    "\n",
    "Esta característica de costo de acceso constante es esencial para la eficiencia de algunos algoritmos muy importantes, como por ejemplo el siguiente:"
   ]
  },
  {
   "cell_type": "markdown",
   "metadata": {},
   "source": [
    "### Ejemplo: Búsqueda Binaria\n",
    "\n",
    "Supongamos que queremos buscar un elemento $x$ en un arreglo $a$ de tamaño $n$. Si no tenemos más información sobre el orden de los elementos dentro del arreglo, lo único que podemos hacer es una _búsqueda secuencial_, la cual tiene costo $\\Theta(n)$ tanto en el peor caso como en el caso promedio.\n",
    "\n",
    "Pero si sabemos que los elementos están en orden ascendente, existe una forma mucho más eficiente, llamada _búsqueda binaria_.\n",
    "\n",
    "La idea es comparar primero $x$ conta el elemento del centro del arreglo. Si tenemos suerte, lo encontramos ahí, pero incluso si no tenemos suerte, podemos de inmediato descartar la mitad del arreglo. En efecto, si $x$ es mayor que el elemento del centro, entonces basta seguir buscando en la segunda mitad. De la misma manera, si $x$ es menor, basta seguir buscando en la primera mitad."
   ]
  },
  {
   "cell_type": "code",
   "execution_count": 1,
   "metadata": {},
   "outputs": [],
   "source": [
    "import numpy as np\n",
    "a=np.array([12,25,29,34,45,53,59,67,86,92])"
   ]
  },
  {
   "cell_type": "code",
   "execution_count": 2,
   "metadata": {},
   "outputs": [],
   "source": [
    "# Búsqueda binaria, versión recursiva\n",
    "# busca x en el arreglo a, retorna subíndice o -1 si no está\n",
    "def bbin(x,a):\n",
    "    # Definimos una función auxiliar para\n",
    "    # buscar en el subarreglo a[i],...,a[j]\n",
    "    def bbin_rec(x,a,i,j): \n",
    "        if i>j:\n",
    "            return -1\n",
    "        k=(i+j)//2\n",
    "        if x==a[k]:\n",
    "            return k\n",
    "        if x<a[k]:\n",
    "            return bbin_rec(x,a,i,k-1)\n",
    "        else:\n",
    "            return bbin_rec(x,a,k+1,j)\n",
    "\n",
    "    # puntapié inicial\n",
    "    n=len(a)\n",
    "    return bbin_rec(x,a,0,n-1)"
   ]
  },
  {
   "cell_type": "code",
   "execution_count": 3,
   "metadata": {},
   "outputs": [
    {
     "name": "stdout",
     "output_type": "stream",
     "text": [
      "0 5 9 -1\n"
     ]
    }
   ],
   "source": [
    "print(bbin(12,a), bbin(53,a), bbin(92,a), bbin(30,a))"
   ]
  },
  {
   "cell_type": "code",
   "execution_count": 4,
   "metadata": {},
   "outputs": [],
   "source": [
    "# Búsqueda binaria, versión iterativa\n",
    "# busca x en el arreglo a, retorna subíndice o -1 si no está\n",
    "def bbin(x,a):\n",
    "    n=len(a)\n",
    "    i=0\n",
    "    j=n-1\n",
    "    while i<=j:\n",
    "        k=(i+j)//2\n",
    "        if x==a[k]:\n",
    "            return k\n",
    "        if x<a[k]:\n",
    "            j=k-1\n",
    "        else:\n",
    "            i=k+1\n",
    "    return -1"
   ]
  },
  {
   "cell_type": "code",
   "execution_count": 5,
   "metadata": {},
   "outputs": [
    {
     "name": "stdout",
     "output_type": "stream",
     "text": [
      "0 5 9 -1\n"
     ]
    }
   ],
   "source": [
    "print(bbin(12,a), bbin(53,a), bbin(92,a), bbin(30,a))"
   ]
  },
  {
   "cell_type": "markdown",
   "metadata": {},
   "source": [
    "Podemos estimar rápidamente la eficiencia de este algoritmo si vemos que para hacer una búsqueda en un conjunto de tamaño $n$, después de accesar el elemento del medio, en el peor caso continuamos buscando en un conjunto de tamaño aproximadamente igual a la mitad:\n",
    "\n",
    "$$\n",
    "T(n)=1+T\\left(\\frac{n}{2}\\right)\n",
    "$$\n",
    "\n",
    "Aplicando el Teorema Maestro con $p=1$, $q=2$, $r=1$, vemos que $T(n)=\\Theta(\\log{n})$.\n",
    "Por lo tanto, gracias a que el arreglo está ordenado, una búsqueda binaria es mucho más eficiente que una búsqueda secuencial.\n",
    "\n",
    "La ecuación anterior nos permite obtener una estimación rápida, pero no refleja de manera totalmente exacta lo que ocurre en el algoritmo.\n",
    "Si queremos modelar de manera precisa lo que ocurre en el peor caso, la ecuación correcta es\n",
    "\n",
    "$$\n",
    "\\begin{align}\n",
    "T(n) &= 1 + T\\left(\\left\\lceil\\frac{n-1}{2}\\right\\rceil\\right)\\\\\n",
    "T(1) &= 1\n",
    "\\end{align}\n",
    "$$\n",
    "\n",
    "donde la notación \"techo\" $\\lceil x\\rceil$ denota el menor entero mayor o igual a $x$ (y, similarmente, la notación \"piso\" $\\lfloor x \\rfloor$ denota el mayor entero menor o igual a $x$).\n",
    "\n",
    "Si tabulamos el valor de la función $T(n)$ para los primeros valores de $n$, tenemos:\n",
    "\n",
    "| $𝑛$  | 1 | 2 | 3 | 4 | 5 | 6 | 7 | 8 | 9 | 10 | 11 | 12 | 13 | 14 | 15 | 16 | 17 |\n",
    "| --- | --- | --- | --- | --- | --- | --- | --- | --- | --- | --- | --- | --- | --- | --- | --- | --- | --- |\n",
    "| $T(n)$ | 1 | 2 | 2 | 3 | 3 | 3 | 3 | 4 | 4 | 4 | 4 | 4 | 4 | 4 | 4 |5 | 5 |\n",
    "\n",
    "Observando esta tabla, no es difícil adivinar la solución:\n",
    "\n",
    "$$\n",
    "T(n) = \\log_2{(n+1)}\n",
    "$$\n",
    "\n",
    "#### Ejercicio:\n",
    "Demostrarlo."
   ]
  },
  {
   "cell_type": "markdown",
   "metadata": {},
   "source": [
    "### Una manera más eficiente de programar la búsqueda binaria\n",
    "\n",
    "En el análisis anterior, hemos considerado que en cada iteración, el costo de accesar el elemento $a[k]$ es igual a $1$, representando así el costo total de comparar primero con`==`y luego con `<`.\n",
    "Si quisiéramos hacer una contabilidad más precisa, deberíamos decir que ese costo es en realidad de $2$ comparaciones por cada iteración.\n",
    "A continuación veremos que es posible reducir eso a $1$ comparación por ciclo, si utilizamos comparaciones de tipo `<=`:"
   ]
  },
  {
   "cell_type": "code",
   "execution_count": 6,
   "metadata": {},
   "outputs": [],
   "source": [
    "# Búsqueda binaria, versión iterativa y con <=\n",
    "# busca x en el arreglo a, retorna subíndice o -1 si no está\n",
    "def bbin(x,a):\n",
    "    n=len(a)\n",
    "    i=0\n",
    "    j=n-1\n",
    "    while i<j: # conjunto tiene al menos 2 elementos\n",
    "        k=(i+j)//2\n",
    "        if x<=a[k]:\n",
    "            j=k    # x estaría en a[i],...,a[k]\n",
    "        else:\n",
    "            i=k+1  # x estaría en a[k+1],...,a[j]\n",
    "    # al terminar, el conjunto factible se ha reducido a 0 o 1 elemento\n",
    "    if i==j and x==a[i]:\n",
    "        return i\n",
    "    else:\n",
    "        return -1"
   ]
  },
  {
   "cell_type": "code",
   "execution_count": 7,
   "metadata": {},
   "outputs": [
    {
     "name": "stdout",
     "output_type": "stream",
     "text": [
      "0 5 9 -1\n"
     ]
    }
   ],
   "source": [
    "print(bbin(12,a), bbin(53,a), bbin(92,a), bbin(30,a))"
   ]
  },
  {
   "cell_type": "markdown",
   "metadata": {},
   "source": [
    "En esta versión logramos ahorrar una comparación de elementos por iteración, al precio de que toda las búsquedas ahora hacen el máximo de iteraciones, a diferencia del algoritmo original, en donde si teníamos suerte el algoritmo buscado se podría encontrar en las primeras iteraciones.\n",
    "\n",
    "Este es un precio que vale la pena pagar, porque en el algoritmo original son muy pocos los casos en que la búsqueda termina tempranamente, y en la gran mayoría de los casos igual se hace un número de iteraciones muy cercano al máximo."
   ]
  },
  {
   "cell_type": "markdown",
   "metadata": {},
   "source": [
    "## Estructuras enlazadas\n",
    "\n",
    "Como hemos visto, los arreglos permiten que algunos algoritmos se puedan programar de manera muy eficiente, pero las estructuras basadas en arreglos suelen ser muy rígidas.\n",
    "Por ejemplo, si quisiéramos agregar un nuevo elemento al arreglo ordenado en que se hace búsqueda binaria (suponiendo que hubiera holgura suficiente), la inserción tomaría tiempo $\\Theta(n)$ tanto en el peor caso como en promedio, por la necesidad de preservar el orden de los elementos.\n",
    "\n",
    "Veremos a continuación que podemos diseñar estructuras mucho más flexibles sin hacemos uso de la capacidad de definir clases de objetos que contienen dentro de sus campos referencias (también llamadas \"punteros\") a otros objetos."
   ]
  },
  {
   "cell_type": "markdown",
   "metadata": {},
   "source": [
    "## Listas de enlace simple\n",
    "\n",
    "Comenzaremos viendo la estructura más sencilla de este tipo: una secuencia de nodos, en que cada uno contiene una referencia al siguiente de la lista. Consideremos nodos compuestos de dos _campos_ (o _atributos_): `info` y `sgte`. El primero almacena el elemento de la secuencia, y el segundo apunta al siguiente nodo. Por ejemplo, un nodo que almacena el valor $42$ y que apunta al siguiente nodo se puede representar gráficamente así:\n",
    "\n",
    "![Nodo](Nodo.png)\n",
    "\n",
    "O, más simplemente:\n",
    "\n",
    "![Nodo-circular](Nodo-circular.png)\n",
    "\n",
    "Para definir el formato de estos nodos utilizaremos la siguiente definición de clase, la que incluye un constructor para inicializar sus campos al crear un objeto:"
   ]
  },
  {
   "cell_type": "code",
   "execution_count": 42,
   "metadata": {},
   "outputs": [],
   "source": [
    "class Nodo:\n",
    "    def __init__(self, info, sgte=None):\n",
    "        self.info=info\n",
    "        self.sgte=sgte"
   ]
  },
  {
   "cell_type": "code",
   "execution_count": 43,
   "metadata": {},
   "outputs": [
    {
     "name": "stdout",
     "output_type": "stream",
     "text": [
      "42 None\n"
     ]
    }
   ],
   "source": [
    "p=Nodo(42)\n",
    "print(p.info, p.sgte)"
   ]
  },
  {
   "cell_type": "markdown",
   "metadata": {},
   "source": [
    "El siguiente trozo de programa muestra la construcción de una lista con 4 elementos: $42$, $65$, $13$ y $44$, y un ejemplo simple de uso:"
   ]
  },
  {
   "cell_type": "code",
   "execution_count": 44,
   "metadata": {},
   "outputs": [
    {
     "name": "stdout",
     "output_type": "stream",
     "text": [
      "42 65 13 44 \n"
     ]
    }
   ],
   "source": [
    "primero=Nodo(42,Nodo(65,Nodo(13,Nodo(44))))\n",
    "p=primero\n",
    "while p is not None:\n",
    "    print(p.info, end=\" \")\n",
    "    p=p.sgte\n",
    "print()"
   ]
  },
  {
   "cell_type": "markdown",
   "metadata": {},
   "source": [
    "Algo adicional respecto de la representación gráfica. Cuando una referencia es nula (`None`), es tradicional representarla como \"conectada a tierra\":\n",
    "\n",
    "![Nodo-None](Nodo-None.png)\n",
    "\n",
    "Al usar la representación con nodos circulares, la ausencia de un nodo siguiente la podemos representar simplemente por la ausencia de la flecha saliente:\n",
    "\n",
    "![Nodo-circular-None](Nodo-circular-None.png)\n",
    "\n",
    "O, si queremos hacer explícita la ausencia de un nodo siguiente (o, en otras palabras, que el puntero al nodo siguiente es nulo), podemos representarlo por un nodo cuadrado, que es una convención que nos resultará muy conveniente más adelante, al ver _árboles_:\n",
    "\n",
    "![Nodo-circular-cuadrado](Nodo-circular-cuadrado.png)\n",
    "\n",
    "Con esta última convención, la lista que construimos en el ejemplo anterior, se visualizaría así:\n",
    "\n",
    "![lista-ejemplo](lista-ejemplo.png)"
   ]
  },
  {
   "cell_type": "markdown",
   "metadata": {},
   "source": [
    "A continuación definiremos una clase `Lista`, que contendrá el puntero al primer nodo de la lista, así como la funcionalidad que necesitamos para operar sobre la lista:"
   ]
  },
  {
   "cell_type": "code",
   "execution_count": 45,
   "metadata": {},
   "outputs": [],
   "source": [
    "class Lista:\n",
    "    def __init__(self):\n",
    "        self.primero=None\n",
    "        \n",
    "    def insertar_al_inicio(self,info):\n",
    "        self.primero=Nodo(info,self.primero)\n",
    "    \n",
    "    def insertar_despues_de(self,p,info): # inserta después de nodo p\n",
    "        p.sgte=Nodo(info,p.sgte)\n",
    "    \n",
    "    def eliminar_al_inicio(self):\n",
    "        assert self.primero is not None\n",
    "        self.primero=self.primero.sgte\n",
    "    \n",
    "    def eliminar_sgte_de(self,p): # elimina el nodo siguiente de p\n",
    "        assert p.sgte is not None\n",
    "        p.sgte=p.sgte.sgte\n",
    "    \n",
    "    def k_esimo(self,k): # retorna k-esimo nodo, o None si fuera de rango\n",
    "        p=self.primero\n",
    "        j=1\n",
    "        while p is not None:\n",
    "            if j==k:\n",
    "                return p\n",
    "            p=p.sgte\n",
    "            j+=1\n",
    "        return None\n",
    "    \n",
    "    def imprimir(self):\n",
    "        p=self.primero\n",
    "        while p is not None:\n",
    "            print(p.info, end=\" \")\n",
    "            p=p.sgte\n",
    "        print()"
   ]
  },
  {
   "cell_type": "code",
   "execution_count": 46,
   "metadata": {},
   "outputs": [
    {
     "name": "stdout",
     "output_type": "stream",
     "text": [
      "42 65 13 44 \n"
     ]
    }
   ],
   "source": [
    "L=Lista()\n",
    "L.insertar_al_inicio(44)\n",
    "L.insertar_al_inicio(13)\n",
    "L.insertar_al_inicio(65)\n",
    "L.insertar_al_inicio(42)\n",
    "L.imprimir()"
   ]
  },
  {
   "cell_type": "code",
   "execution_count": 47,
   "metadata": {},
   "outputs": [
    {
     "name": "stdout",
     "output_type": "stream",
     "text": [
      "42 65 88 13 44 \n"
     ]
    }
   ],
   "source": [
    "L.insertar_despues_de(L.k_esimo(2),88)\n",
    "L.imprimir()"
   ]
  },
  {
   "cell_type": "code",
   "execution_count": 48,
   "metadata": {},
   "outputs": [
    {
     "name": "stdout",
     "output_type": "stream",
     "text": [
      "65 88 13 44 \n"
     ]
    }
   ],
   "source": [
    "L.eliminar_al_inicio()\n",
    "L.imprimir()"
   ]
  },
  {
   "cell_type": "code",
   "execution_count": 49,
   "metadata": {},
   "outputs": [
    {
     "name": "stdout",
     "output_type": "stream",
     "text": [
      "65 13 44 \n"
     ]
    }
   ],
   "source": [
    "L.eliminar_sgte_de(L.k_esimo(1))\n",
    "L.imprimir()"
   ]
  },
  {
   "cell_type": "markdown",
   "metadata": {},
   "source": [
    "Hay algunas cosas que no resultan muy elegantes en este diseño.\n",
    "\n",
    "Una de ellas es que para eliminar un elemento, no se pueda indicar al elemento que se desea eliminar, sino que haya que indicar al previo. Esto es inevitable, dado el caracter unidireccional de los enlaces, y más adelante, cuando veamos _listas de doble enlace_ veremos que eso puede mejorarse.\n",
    "\n",
    "Otro punto molesto en la interfaz de uso es la necesidad de distinguir entre si se opera al comienzo de la lista, o en un punto interior. Esto es porque las operaciones afectan al elemento previo, y el primero de la lista, por definición, no tiene un elemento previo.\n",
    "\n",
    "Esto puede subsanarse, sin embargo, introduciendo un nodo \"cabecera\" (\"_header_\") al comienzo de la lista. Este nodo no contiene información útil y para todos los efectos es como si no existiera, excepto que sirve como el previo del primer nodo real de la lista. Para poder ubicarlo, lo identificaremos con el nodo \"0-ésimo\" de la lista.\n",
    "\n",
    "![lista-ejemplo-con-cabecera](lista-ejemplo-con-cabecera.png)\n",
    "\n",
    "A continuación reescribimos nuestra definición de la clase `Lista` y sus ejemplos de uso, bajo el supuesto de que existe un nodo cabecera."
   ]
  },
  {
   "cell_type": "code",
   "execution_count": 50,
   "metadata": {},
   "outputs": [],
   "source": [
    "class Lista_con_cabecera:\n",
    "    def __init__(self):\n",
    "        self.cabecera=Nodo(0,None)\n",
    "    \n",
    "    def insertar_despues_de(self,p,info): # inserta después de nodo p\n",
    "        p.sgte=Nodo(info,p.sgte)\n",
    "    \n",
    "    def eliminar_sgte_de(self,p): # elimina el nodo siguiente de p\n",
    "        assert p.sgte is not None\n",
    "        p.sgte=p.sgte.sgte\n",
    "    \n",
    "    def k_esimo(self,k): # retorna k-esimo nodo, o None si fuera de rango\n",
    "        p=self.cabecera\n",
    "        j=0\n",
    "        while True:\n",
    "            if j==k:\n",
    "                return p\n",
    "            p=p.sgte\n",
    "            if p is self.cabecera:\n",
    "                return None\n",
    "            j+=1\n",
    "    \n",
    "    def imprimir(self):\n",
    "        p=self.cabecera.sgte\n",
    "        while p is not None:\n",
    "            print(p.info,end=\" \")\n",
    "            p=p.sgte\n",
    "        print()"
   ]
  },
  {
   "cell_type": "code",
   "execution_count": 51,
   "metadata": {},
   "outputs": [
    {
     "name": "stdout",
     "output_type": "stream",
     "text": [
      "42 65 13 44 \n"
     ]
    }
   ],
   "source": [
    "L=Lista_con_cabecera()\n",
    "L.insertar_despues_de(L.k_esimo(0),42)\n",
    "L.insertar_despues_de(L.k_esimo(1),65)\n",
    "L.insertar_despues_de(L.k_esimo(2),13)\n",
    "L.insertar_despues_de(L.k_esimo(3),44)\n",
    "L.imprimir()"
   ]
  },
  {
   "cell_type": "code",
   "execution_count": 52,
   "metadata": {},
   "outputs": [
    {
     "name": "stdout",
     "output_type": "stream",
     "text": [
      "65 13 44 \n"
     ]
    }
   ],
   "source": [
    "L.eliminar_sgte_de(L.k_esimo(0)) # eliminar el primero\n",
    "L.imprimir()"
   ]
  },
  {
   "cell_type": "code",
   "execution_count": 53,
   "metadata": {},
   "outputs": [
    {
     "name": "stdout",
     "output_type": "stream",
     "text": [
      "65 44 \n"
     ]
    }
   ],
   "source": [
    "L.eliminar_sgte_de(L.k_esimo(1)) # eliminar un elemento en el medio\n",
    "L.imprimir()"
   ]
  },
  {
   "cell_type": "markdown",
   "metadata": {},
   "source": [
    "### Recorriendo la lista con un iterador\n",
    "\n",
    "A continuación veremos cómo, en lugar de imprimir la lista, podemos implementar un iterador que vaya entregando los elementos de la lista cada vez que es llamado:"
   ]
  },
  {
   "cell_type": "code",
   "execution_count": 54,
   "metadata": {},
   "outputs": [],
   "source": [
    "class Lista_con_cabecera:\n",
    "    def __init__(self):\n",
    "        self.cabecera=Nodo(0,None)\n",
    "    \n",
    "    def insertar_despues_de(self,p,info): # inserta después de nodo p\n",
    "        p.sgte=Nodo(info,p.sgte)\n",
    "    \n",
    "    def eliminar_sgte_de(self,p): # elimina el nodo siguiente de p\n",
    "        assert p.sgte is not None\n",
    "        p.sgte=p.sgte.sgte\n",
    "    \n",
    "    def k_esimo(self,k): # retorna k-esimo nodo, o None si fuera de rango\n",
    "        p=self.cabecera\n",
    "        j=0\n",
    "        while p is not None:\n",
    "            if j==k:\n",
    "                return p\n",
    "            p=p.sgte\n",
    "            j+=1\n",
    "        return None\n",
    "    \n",
    "    def valores(self):\n",
    "        p=self.cabecera.sgte\n",
    "        while p is not None:\n",
    "            yield p.info\n",
    "            p=p.sgte"
   ]
  },
  {
   "cell_type": "code",
   "execution_count": 56,
   "metadata": {},
   "outputs": [
    {
     "name": "stdout",
     "output_type": "stream",
     "text": [
      "42 65 13 44 \n"
     ]
    }
   ],
   "source": [
    "L=Lista_con_cabecera()\n",
    "L.insertar_despues_de(L.k_esimo(0),42)\n",
    "L.insertar_despues_de(L.k_esimo(1),65)\n",
    "L.insertar_despues_de(L.k_esimo(2),13)\n",
    "L.insertar_despues_de(L.k_esimo(3),44)\n",
    "for x in L.valores():\n",
    "    print(x, end=\" \")\n",
    "print()"
   ]
  },
  {
   "cell_type": "markdown",
   "metadata": {},
   "source": [
    "## Listas de doble enlace\n",
    "\n",
    "Las listas de enlace simple permiten solo procesos unidireccionales, por lo que no son muy apropiadas cuando los procesos necesitan poder recorrerlas en ambas dicecciones.\n",
    "\n",
    "Podemos mejorar esto si agregamos a los nodos una referencia al nodo _previo_, además del nodo siguiente:\n",
    "\n",
    "![Nodo-doble](Nodo-doble.png)\n",
    "\n",
    " "
   ]
  },
  {
   "cell_type": "code",
   "execution_count": 57,
   "metadata": {},
   "outputs": [],
   "source": [
    "class Nodo:\n",
    "    def __init__(self, prev, info, sgte):\n",
    "        self.prev=prev\n",
    "        self.info=info\n",
    "        self.sgte=sgte"
   ]
  },
  {
   "cell_type": "markdown",
   "metadata": {},
   "source": [
    "Con este tipo de nodos podemos formar una lista que puede ser recorrida en ambas direcciones.\n",
    "Por consideraciones similares a las anteriores, resulta conveniente agregar un nodo cabecera en cada extremo, pero en realidad un mismo nodo puede jugar ambos roles, con lo cual la lista adopta un aspecto físicamente circular, aunque desde un punto de vista conceptual no lo sea:\n",
    "\n",
    "![lista-ejemplo-doble-enlace](lista-ejemplo-doble-enlace.png)\n",
    "\n",
    "La siguiente es una definición de lista de doble enlace, cun alguna de la funcionalidad que ella permite:"
   ]
  },
  {
   "cell_type": "code",
   "execution_count": 58,
   "metadata": {},
   "outputs": [],
   "source": [
    "class Lista_doble_enlace:\n",
    "    def __init__(self):\n",
    "        self.cabecera=Nodo(None,0,None)\n",
    "        self.cabecera.prev=self.cabecera\n",
    "        self.cabecera.sgte=self.cabecera\n",
    "    \n",
    "    def insertar_despues_de(self,p,info): # inserta después de nodo p\n",
    "        r=p.sgte\n",
    "        p.sgte=r.prev=Nodo(p,info,r)\n",
    " \n",
    "    def eliminar(self,p): # elimina el nodo p\n",
    "        assert p is not self.cabecera\n",
    "        (p.prev.sgte,p.sgte.prev)=(p.sgte,p.prev)\n",
    "    \n",
    "    def k_esimo(self,k): # retorna k-esimo nodo, o None si fuera de rango\n",
    "        p=self.cabecera\n",
    "        j=0\n",
    "        while True:\n",
    "            if j==k:\n",
    "                return p\n",
    "            p=p.sgte\n",
    "            if p is self.cabecera:\n",
    "                return None\n",
    "            j+=1\n",
    "    \n",
    "    def ascendente(self):\n",
    "        p=self.cabecera.sgte\n",
    "        while p is not self.cabecera:\n",
    "            yield p.info\n",
    "            p=p.sgte\n",
    "\n",
    "    def descendente(self):\n",
    "        p=self.cabecera.prev\n",
    "        while p is not self.cabecera:\n",
    "            yield p.info\n",
    "            p=p.prev"
   ]
  },
  {
   "cell_type": "code",
   "execution_count": 59,
   "metadata": {},
   "outputs": [
    {
     "name": "stdout",
     "output_type": "stream",
     "text": [
      "42 65 13 44 \n",
      "44 13 65 42 \n"
     ]
    }
   ],
   "source": [
    "L=Lista_doble_enlace()\n",
    "L.insertar_despues_de(L.k_esimo(0),42)\n",
    "L.insertar_despues_de(L.k_esimo(1),65)\n",
    "L.insertar_despues_de(L.k_esimo(2),13)\n",
    "L.insertar_despues_de(L.k_esimo(3),44)\n",
    "for x in L.ascendente():\n",
    "    print(x,end=\" \")\n",
    "print()\n",
    "for x in L.descendente():\n",
    "    print(x,end=\" \")\n",
    "print()"
   ]
  },
  {
   "cell_type": "code",
   "execution_count": 60,
   "metadata": {},
   "outputs": [
    {
     "name": "stdout",
     "output_type": "stream",
     "text": [
      "42 65 44 \n"
     ]
    }
   ],
   "source": [
    "L.eliminar(L.k_esimo(3))\n",
    "for x in L.ascendente():\n",
    "    print(x,end=\" \")\n",
    "print()"
   ]
  },
  {
   "cell_type": "markdown",
   "metadata": {},
   "source": [
    "## Árboles Binarios\n",
    "\n",
    "Al usar nodos que hacen referencia a otros nodos, no es de ninguna manera obligatorio limitarse a estructuras lineales como las que hemos visto en las secciones anteriores: podemos construir estructuras enlazadas tan complejas como queramos.\n",
    "\n",
    "Un tipo de estructura muy utilizada son los _árboles binarios_, en que cada nodo puede tener \"hijos\" tanto a su izquierda como a si derecha, y eso mismo se reproduce para los hijos, recursivamente.\n",
    "\n",
    "Los nodos tienen un formato similar al de los nodos de doble enlace, pero las referencias se llaman `izq` (izquierda) y `der` (derecha).\n",
    "\n",
    "![Nodo-arbol-binario](Nodo-arbol-binario.png)\n",
    "\n",
    "Al dibujarlo con nodos circulares, normalmente las líneas no llevan flecha, porque se entiende que apuntan hacia abajo:\n",
    "\n",
    "![Nodo-arbol-binario-circular](Nodo-arbol-binario-circular.png)"
   ]
  },
  {
   "cell_type": "code",
   "execution_count": 115,
   "metadata": {},
   "outputs": [],
   "source": [
    "class Nodo:\n",
    "    def __init__(self, izq, info, der):\n",
    "        self.izq=izq\n",
    "        self.info=info\n",
    "        self.der=der"
   ]
  },
  {
   "cell_type": "markdown",
   "metadata": {},
   "source": [
    "La siguiente figura muestra un ejemplo de un árbol binario:\n",
    "\n",
    "![ejemplo-ABB](ejemplo-ABB.png)\n",
    "\n",
    "Este es un tipo especial de árbol binario, llamado _árbol de búsqueda binaria_ (_ABB_), que se caracteriza porque para cada nodo, sus hijos descendientes hacia la izquierda son menores que él, y los de la derecha son mayores. Más adelante estudiaremos en profundidad los ABB.\n",
    "\n",
    "La terminología asociada a los árboles combina lo forestal con lo genealógico. El nodo de nivel superior se llama la _raíz_ y los nodos que están en los niveles inferiores (los nodos cuadrados en la figura) se llaman _hojas_. Como vemos, al revés que en la naturaleza, estos árboles crecen hacia abajo.\n",
    "\n",
    "Un nodo apunta hacia abajo a sus hijos (izquierdo y derecho), y se dice que es el _padre_ de ellos. Yendo desde un nodo hacia abajo se encuentran sus _descendientes_, y hacia arriba se encuentran sus _ancestros_.\n",
    "\n",
    "Si el nodo $b$ es descendiente del nodo $a$, se dice que la distancia entre $a$ y $b$ es el número de pasos que hay que dar para ir de $a$ a $b$. La máxima distancia entre la raíz y una hoja se llama la _altura_ del árbol. En el ejemplo, la altura es $5$, que se alcanza yendo desde la raíz hasta cualquiera de las hojas hijas de $65$ o de $81$.\n",
    "\n",
    "Al dibujar un árbol con nodos circulares y nodos cuadrados, los circulares se llaman _nodos internos_ y los cuadrados, _nodos externos_. Los nodos internos siempre pueden tener dos hijos (internos y/o externos) y los nodos externos no tienen hijos.\n",
    "\n",
    "A continuación definiremos una clase árbol, con un constructor que define un puntero al nodo raíz. Para poder hacer ejemplos de uso, admitiremos que el constructor reciba un puntero a la raíz de un árbol ya construido. "
   ]
  },
  {
   "cell_type": "code",
   "execution_count": 116,
   "metadata": {},
   "outputs": [],
   "source": [
    "class Arbol:\n",
    "    def __init__(self,raiz=None):\n",
    "        self.raiz=raiz"
   ]
  },
  {
   "cell_type": "markdown",
   "metadata": {},
   "source": [
    "### Recorridos de Árboles Binarios\n",
    "\n",
    "Un árbol binario es una estructura esencialmente recursiva, y las principales formas de recorrer un árbol se definen también recursivamente.\n",
    "Los tres tipos de recorridos más conocidos son:\n",
    "\n",
    "* Preorden: Visitar la raíz, recorrer el subárbol izquierdo y recorrer el subárbol derecho\n",
    "\n",
    "* Indorden: Recorrer el subárbol izquierdo, visitar la raíz y recorrer el subárbol derecho\n",
    "\n",
    "* Postorden: Recorrer el subárbol izquierdo, recorrer el subárbol derecho y visitar la raíz\n",
    "\n",
    "A continuación agregamos a la definición de la clase tres métodos que imprimen en contenido del árbol en estos recorridos:"
   ]
  },
  {
   "cell_type": "code",
   "execution_count": 117,
   "metadata": {},
   "outputs": [],
   "source": [
    "def pre(p):\n",
    "    if p is not None:\n",
    "        print(p.info,end=\" \")\n",
    "        pre(p.izq)\n",
    "        pre(p.der)\n",
    "\n",
    "def ino(p):\n",
    "    if p is not None:\n",
    "        ino(p.izq)\n",
    "        print(p.info,end=\" \")\n",
    "        ino(p.der)\n",
    "\n",
    "def post(p):\n",
    "    if p is not None:\n",
    "        post(p.izq)\n",
    "        post(p.der)\n",
    "        print(p.info,end=\" \")\n",
    "        \n",
    "class Arbol:\n",
    "    def __init__(self,raiz=None):\n",
    "        self.raiz=raiz\n",
    "        \n",
    "    def preorden(self):\n",
    "        print(\"Preorden:\", end=\" \")\n",
    "        pre(self.raiz)\n",
    "        print()\n",
    "        \n",
    "    def inorden(self):\n",
    "        print(\"Inorden:\", end=\" \")\n",
    "        ino(self.raiz)\n",
    "        print()\n",
    "        \n",
    "    def postorden(self):\n",
    "        print(\"Postorden:\", end=\" \")\n",
    "        post(self.raiz)\n",
    "        print()"
   ]
  },
  {
   "cell_type": "code",
   "execution_count": 118,
   "metadata": {},
   "outputs": [],
   "source": [
    "a=Arbol(\n",
    "    Nodo(\n",
    "        Nodo(\n",
    "            Nodo(None,15,None),\n",
    "            20,\n",
    "            Nodo(\n",
    "                Nodo(None,30,None),\n",
    "                35,\n",
    "                None\n",
    "            )\n",
    "        ),\n",
    "        42,\n",
    "        Nodo(\n",
    "            Nodo(\n",
    "                Nodo(\n",
    "                    Nodo(None,65,None),\n",
    "                    72,\n",
    "                    Nodo(None,81,None)\n",
    "                ),\n",
    "                90,\n",
    "                None\n",
    "            ),\n",
    "            95,\n",
    "            None\n",
    "        )\n",
    "       )\n",
    ")"
   ]
  },
  {
   "cell_type": "code",
   "execution_count": 119,
   "metadata": {},
   "outputs": [
    {
     "name": "stdout",
     "output_type": "stream",
     "text": [
      "Preorden: 42 20 15 35 30 95 90 72 65 81 \n",
      "Inorden: 15 20 30 35 42 65 72 81 90 95 \n",
      "Postorden: 15 30 35 20 65 81 72 90 95 42 \n"
     ]
    }
   ],
   "source": [
    "a.preorden()\n",
    "a.inorden()\n",
    "a.postorden()"
   ]
  },
  {
   "cell_type": "markdown",
   "metadata": {},
   "source": [
    "### Una representación alternativa para árboles binarios\n",
    "\n",
    "Un diseño alternativo para esta estructura se basa en darle una existencia real a los nodos externos, en lugar de que sean punteros `None`. Esto nos permite asociar funcionalidad a los nodos, lo cual ejemplificamos con el recorrido en inorden:"
   ]
  },
  {
   "cell_type": "code",
   "execution_count": 120,
   "metadata": {},
   "outputs": [],
   "source": [
    "class Nodoi:\n",
    "    def __init__(self, izq, info, der):\n",
    "        self.izq=izq\n",
    "        self.info=info\n",
    "        self.der=der\n",
    "    def inorden(self):\n",
    "        self.izq.inorden()\n",
    "        print(self.info, end=\" \")\n",
    "        self.der.inorden()\n",
    "\n",
    "class Nodoe:\n",
    "    def __init(self):\n",
    "        pass\n",
    "    def inorden(self):\n",
    "        pass  "
   ]
  },
  {
   "cell_type": "code",
   "execution_count": 124,
   "metadata": {},
   "outputs": [],
   "source": [
    "class Arbol:\n",
    "    def __init__(self,raiz=Nodoe()):\n",
    "        self.raiz=raiz\n",
    "        \n",
    "    def inorden(self):\n",
    "        print(\"Inorden:\", end=\" \")\n",
    "        self.raiz.inorden()\n",
    "        print()"
   ]
  },
  {
   "cell_type": "code",
   "execution_count": 128,
   "metadata": {},
   "outputs": [],
   "source": [
    "a=Arbol(\n",
    "    Nodoi(\n",
    "        Nodoi(\n",
    "            Nodoi(Nodoe(),15,Nodoe()),\n",
    "            20,\n",
    "            Nodoi(\n",
    "                Nodoi(Nodoe(),30,Nodoe()),\n",
    "                35,\n",
    "                Nodoe()\n",
    "            )\n",
    "        ),\n",
    "        42,\n",
    "        Nodoi(\n",
    "            Nodoi(\n",
    "                Nodoi(\n",
    "                    Nodoi(Nodoe(),65,Nodoe()),\n",
    "                    72,\n",
    "                    Nodoi(Nodoe(),81,Nodoe())\n",
    "                ),\n",
    "                90,\n",
    "                Nodoe()\n",
    "            ),\n",
    "            95,\n",
    "            Nodoe()\n",
    "        )\n",
    "       )\n",
    ")"
   ]
  },
  {
   "cell_type": "code",
   "execution_count": 129,
   "metadata": {},
   "outputs": [
    {
     "name": "stdout",
     "output_type": "stream",
     "text": [
      "Inorden: 15 20 30 35 42 65 72 81 90 95 \n"
     ]
    }
   ],
   "source": [
    "a.inorden()"
   ]
  },
  {
   "cell_type": "markdown",
   "metadata": {},
   "source": [
    "## Árboles para representar fórmulas\n",
    "\n",
    "La estructura de una fórmula matemática, por ejemplo la fórmula\n",
    "\n",
    "$$\n",
    "(a+1)*\\left(2-\\frac{1}{b}\\right)\n",
    "$$\n",
    "\n",
    "se puede representar mediante el árbol:\n",
    "\n",
    "![arbol-formula](arbol-formula.png)\n",
    "\n",
    "Modifiquemos la definición de nodos externos para que puedan almacenar información en su interior y veamos el efecto de hacer un recorrido en postorden de un árbol de este tipo:"
   ]
  },
  {
   "cell_type": "code",
   "execution_count": 136,
   "metadata": {},
   "outputs": [],
   "source": [
    "class Nodoi:\n",
    "    def __init__(self, izq, info, der):\n",
    "        self.izq=izq\n",
    "        self.info=info\n",
    "        self.der=der\n",
    "    def postorden(self):\n",
    "        self.izq.postorden()   \n",
    "        self.der.postorden()\n",
    "        print(self.info, end=\" \")\n",
    "\n",
    "class Nodoe:\n",
    "    def __init__(self, info=\"\"):\n",
    "        self.info=info\n",
    "    def postorden(self):\n",
    "        print(self.info, end=\" \")\n",
    "\n",
    "class Arbol:\n",
    "    def __init__(self,raiz=Nodoe()):\n",
    "        self.raiz=raiz        \n",
    "    def postorden(self):\n",
    "        print(\"Postorden:\", end=\" \")\n",
    "        self.raiz.postorden()\n",
    "        print()"
   ]
  },
  {
   "cell_type": "code",
   "execution_count": 145,
   "metadata": {},
   "outputs": [],
   "source": [
    "formula= Arbol(\n",
    "            Nodoi(\n",
    "                Nodoi(Nodoe(\"a\"),\"+\",Nodoe(\"1\")),\n",
    "                \"*\",\n",
    "                Nodoi(\n",
    "                    Nodoe(\"2\"),\n",
    "                    \"-\",\n",
    "                    Nodoi(Nodoe(\"1\"),\"/\",Nodoe(\"b\"))\n",
    "                )\n",
    "            )\n",
    "        )"
   ]
  },
  {
   "cell_type": "code",
   "execution_count": 146,
   "metadata": {},
   "outputs": [
    {
     "name": "stdout",
     "output_type": "stream",
     "text": [
      "Postorden: a 1 + 2 1 b / - * \n"
     ]
    }
   ],
   "source": [
    "formula.postorden()"
   ]
  },
  {
   "cell_type": "markdown",
   "metadata": {},
   "source": [
    "El resultado de este recorrido en postorden es la misma fórmula escrita en _notación polaca de postfijo_ (también llamada _notación polaca reversa_ o, más simplemente, _notación polaca_).\n",
    "Esta notación se caracteriza porque el operador va a continuación de los operandos, mientras que en la notación usual (llamada de _infijo_) el operador va entre los operandos. Por ejemplo, la fórmula \"$a+b$\" se escribe en notación polaca como \"$a b +$\".\n",
    "\n",
    "La notación polaca tiene varias ventajas.\n",
    "Una de ellas es que no necesita paréntesis. Por ejemplo, si no consideramos prioridad de operadores (que es una forma implícita de parentizar), la fórmula \"$a+b*c$\" sería ambigua, porque podría significar \"$(a+b)*c$\" o \"$a+(b*c)$\". En notación polaca no habría ambigüedad, porque la primera se escribiría\"$ab+c*$\", y la segunda sería \"$abc*+$\".\n",
    "\n",
    "Otra ventaja es que, como veremos más adelante, una fórmula en notación se puede evaluar en una sola pasada de izquierda a derecha haciendo uso de una estructura llamada _pila_ o _stack_."
   ]
  },
  {
   "cell_type": "markdown",
   "metadata": {},
   "source": [
    "## Propiedades matemáticas de los árboles binarios\n",
    "\n"
   ]
  },
  {
   "cell_type": "code",
   "execution_count": null,
   "metadata": {},
   "outputs": [],
   "source": []
  }
 ],
 "metadata": {
  "kernelspec": {
   "display_name": "Python 3",
   "language": "python",
   "name": "python3"
  },
  "language_info": {
   "codemirror_mode": {
    "name": "ipython",
    "version": 3
   },
   "file_extension": ".py",
   "mimetype": "text/x-python",
   "name": "python",
   "nbconvert_exporter": "python",
   "pygments_lexer": "ipython3",
   "version": "3.7.1"
  }
 },
 "nbformat": 4,
 "nbformat_minor": 2
}
