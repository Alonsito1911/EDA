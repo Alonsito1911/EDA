{
 "cells": [
  {
   "cell_type": "markdown",
   "metadata": {},
   "source": [
    "# 6 Diccionarios\n",
    "\n",
    "El TDA Diccionario es uno de los más usados en la práctica, y se conocen mucha formas distintas de implementarlo.\n",
    "\n",
    "Un Diccionario es un conjunto de $n$ elementos, cada uno de los cuales tiene un campo que permite identificarlo de manera única (ese campo se llama su _llave primaria_), sobre el cual están definidas las operaciones de buscar, insertar, eliminar, y ocasionalmente otras que definiremos más adelante.\n",
    "Más precisamente, si $d$ es un diccionario, existirán las operaciones:\n",
    "\n",
    "* `r=d.search(x)`: buscar el elemento de llave `x`, retornar un resultado que permita ubicarlo, o `None` si no está\n",
    "* `d.insert(x)`: insertar un elemento de llave `x`, evitando crear una llave duplicada\n",
    "* `d.delete(x)`: eliminar el elemento de llave `x`, el cual debe estar en el diccionario"
   ]
  },
  {
   "cell_type": "markdown",
   "metadata": {},
   "source": [
    "## Diccionarios de Python\n",
    "\n",
    "El lenguaje Python posee un tipo `dict` que implementa la funcionalidad de diccionarios que hemos descrito (más operaciones adicionales). En un diccionario se busca por una llave y se obtiene un valor asociado."
   ]
  },
  {
   "cell_type": "code",
   "execution_count": 11,
   "metadata": {},
   "outputs": [],
   "source": [
    "distancia = {'Valparaíso':102, 'Concepción': 433, 'Arica': 1664, 'Puerto Montt': 912, 'Rancagua': 80}"
   ]
  },
  {
   "cell_type": "markdown",
   "metadata": {},
   "source": [
    "La forma de buscar es simplemente usando la llave como subíndice:"
   ]
  },
  {
   "cell_type": "code",
   "execution_count": 12,
   "metadata": {},
   "outputs": [
    {
     "name": "stdout",
     "output_type": "stream",
     "text": [
      "1664\n"
     ]
    }
   ],
   "source": [
    "print(distancia['Arica'])"
   ]
  },
  {
   "cell_type": "markdown",
   "metadata": {},
   "source": [
    "Y la forma de agregar una nueva llave es asignándole un valor:"
   ]
  },
  {
   "cell_type": "code",
   "execution_count": 13,
   "metadata": {},
   "outputs": [],
   "source": [
    "distancia['Talca']=237"
   ]
  },
  {
   "cell_type": "markdown",
   "metadata": {},
   "source": [
    "Al buscar una llave inexistente se produce una excepción:"
   ]
  },
  {
   "cell_type": "code",
   "execution_count": 14,
   "metadata": {},
   "outputs": [
    {
     "ename": "KeyError",
     "evalue": "'La Serena'",
     "output_type": "error",
     "traceback": [
      "\u001b[0;31m---------------------------------------------------------------------------\u001b[0m",
      "\u001b[0;31mKeyError\u001b[0m                                  Traceback (most recent call last)",
      "\u001b[0;32m<ipython-input-14-0078e5a2585d>\u001b[0m in \u001b[0;36m<module>\u001b[0;34m\u001b[0m\n\u001b[0;32m----> 1\u001b[0;31m \u001b[0mprint\u001b[0m\u001b[0;34m(\u001b[0m\u001b[0mdistancia\u001b[0m\u001b[0;34m[\u001b[0m\u001b[0;34m'La Serena'\u001b[0m\u001b[0;34m]\u001b[0m\u001b[0;34m)\u001b[0m\u001b[0;34m\u001b[0m\u001b[0;34m\u001b[0m\u001b[0m\n\u001b[0m",
      "\u001b[0;31mKeyError\u001b[0m: 'La Serena'"
     ]
    }
   ],
   "source": [
    "print(distancia['La Serena'])"
   ]
  },
  {
   "cell_type": "markdown",
   "metadata": {},
   "source": [
    "Pero hay una forma de buscar sin que dé un error, sino que retorne `None`:"
   ]
  },
  {
   "cell_type": "code",
   "execution_count": 15,
   "metadata": {},
   "outputs": [
    {
     "name": "stdout",
     "output_type": "stream",
     "text": [
      "80 None\n"
     ]
    }
   ],
   "source": [
    "print(distancia.get('Rancagua'), distancia.get('La Serena'))"
   ]
  },
  {
   "cell_type": "markdown",
   "metadata": {},
   "source": [
    "Para eliminar un dato, se usa `pop` (lo elimina y retorna su valor):"
   ]
  },
  {
   "cell_type": "code",
   "execution_count": 16,
   "metadata": {},
   "outputs": [
    {
     "data": {
      "text/plain": [
       "80"
      ]
     },
     "execution_count": 16,
     "metadata": {},
     "output_type": "execute_result"
    }
   ],
   "source": [
    "distancia.pop('Rancagua')"
   ]
  },
  {
   "cell_type": "markdown",
   "metadata": {},
   "source": [
    "Aparte de esto, hay muchas otras operaciones que permiten obtener la lista de todas las llaves, etc.\n",
    "\n",
    "Dado que en Python ya existe una implementación de diccionarios, ¿por qué querríamos estudiar nosotros cómo implementarlos?\n",
    "\n",
    "La respuesta está en que, si nosotros controlamos todos los detalles de una implementación, sabremos exactamente cuan eficiente es, y para qué tipo de aplicaciones es más apropiada. Lo último es particularmente importante, porque no hay ninguna implementación de diccionarios que sea uniformemente mejor que las otras para todas las aplicaciones.\n",
    "\n",
    "Estudiaremos entonces cómo se puede implementar un diccionario, comenzando por las estrategias más sencillas, y avanzando hacia enfoques más sofisticados.\n",
    "\n",
    "En nuestros ejemplos supondremos que solo almacenamos la llave, pero en la práctica siempre habrá información adicional asociada a cada llave. También por simplicidad a menudo usaremos llaves numéricas, aunque en la práctica es más frecuente que las llaves sean strings."
   ]
  },
  {
   "cell_type": "markdown",
   "metadata": {},
   "source": [
    "## Búsqueda secuencial\n",
    "\n",
    "La manera más simple de implementar un diccionario es con una lista desordenada de llaves, en la cual se hace búsqueda secuencial. La inserción es especialmente eficiente si obviamos chequear por duplicados, y la eliminación es eficiente una vez que sabemos dónde está la llave."
   ]
  },
  {
   "cell_type": "code",
   "execution_count": 2,
   "metadata": {},
   "outputs": [],
   "source": [
    "import numpy as np"
   ]
  },
  {
   "cell_type": "code",
   "execution_count": 20,
   "metadata": {},
   "outputs": [],
   "source": [
    "class Lista_secuencial:\n",
    "    def __init__(self, size=100):\n",
    "        self.a=np.zeros(size,dtype=int)\n",
    "        self.n=0\n",
    "    def insert(self,x):\n",
    "        assert self.n<len(self.a)\n",
    "        self.a[self.n]=x\n",
    "        self.n+=1\n",
    "    def search(self,x):\n",
    "        for k in range(0,self.n):\n",
    "            if self.a[k]==x:\n",
    "                return k\n",
    "        return None\n",
    "    def delete(self,x):\n",
    "        k=self.search(x)\n",
    "        self.a[k]=self.a[self.n-1] # movemos el último al lugar vacante\n",
    "        self.n-=1"
   ]
  },
  {
   "cell_type": "code",
   "execution_count": 22,
   "metadata": {},
   "outputs": [
    {
     "name": "stdout",
     "output_type": "stream",
     "text": [
      "1\n",
      "None\n",
      "None\n"
     ]
    }
   ],
   "source": [
    "d=Lista_secuencial()\n",
    "d.insert(30)\n",
    "d.insert(10)\n",
    "d.insert(25)\n",
    "print(d.search(10))\n",
    "print(d.search(80))\n",
    "d.delete(30)\n",
    "print(d.search(30))"
   ]
  },
  {
   "cell_type": "markdown",
   "metadata": {},
   "source": [
    "La búsqueda secuencial también se puede implementar con una lista enlazada, en cuyo caso será más simple insertar al inicio.\n",
    "\n",
    "En cualquier caso, la búsqueda demora tiempo $\\Theta(n)$.\n",
    "Para estimar el costo promedio, suponemos que todos los elementos son igualmente probables de ser accesados y que el costo de buscar a un elemento que es el $k$-ésimo de la lista es $k$. Por lo tanto, el costo promedio es\n",
    "\n",
    "$$\n",
    "\\frac{1}{n}\\sum_{1\\le k \\le n} k = \\frac{n+1}{2}=\\Theta(n)\n",
    "$$\n",
    "\n",
    "Por lo tanto, este tipo de implementación solo será adecuada para conjuntos muy pequeños."
   ]
  },
  {
   "cell_type": "markdown",
   "metadata": {},
   "source": [
    "## Búsqueda secuencial con probabilidades de acceso no uniformes\n",
    "\n",
    "En la práctica, es muy raro que las probabilidades de acceso a los elementos sean uniformes. Con frecuencia hay algunos elementos que son mucho más populares que otros, y empíricamente a menudo se observan distribuciones de tipo \"ley de potencias\", con probabilidades de tipo\n",
    "\n",
    "$$\n",
    "p_k \\propto \\frac{1}{k^{\\alpha}}\n",
    "$$\n",
    "\n",
    "para algún $\\alpha$. Para el caso $\\alpha=1$ esto se llama Ley de Zipf.\n",
    "\n",
    "Si un conjunto de datos tiene elementos con probabilidades de acceso diferentes, entonces para la búsqueda secuencial el orden en que estén los elementos en la lista hace una diferencia.\n",
    "\n",
    "### Caso 1. Probabilidades conocidas\n",
    "\n",
    "Si las probabilidades de acceso son conocidas, es fácil ver que el orden óptimo es en orden decreciente de probabilidad.\n",
    "\n",
    "Más precisamente, si los elementos son $X_1, X_2,\\ldots,X_n$ con probabilidades de acceso $p_1,p_2,\\ldots,p_n$ respectivamente, y si están ordenados de modo que $p_1\\ge p_2\\ge p_3\\ge \\cdots$, entonces el costo esperado de búsqueda óptimo es\n",
    "\n",
    "$$\n",
    "C_{OPT} = \\sum_{1\\le k\\le n} k p_k\n",
    "$$\n",
    "\n",
    "Tomemos como ejemplo el capítulo 1 de \"El Quijote\" (en minúsculas y sin puntuación para simplificar su proceso), cuyo texto está en el archivo `cap1.txt`:\n",
    "\n",
    "```\n",
    "en un lugar de la mancha de cuyo nombre no quiero acordarme no ha mucho\n",
    "tiempo que vivía un hidalgo de los de lanza en astillero adarga antigua\n",
    "...\n",
    "peregrino y significativo como todos los demás que a él y a sus cosas\n",
    "había puesto\n",
    "```"
   ]
  },
  {
   "cell_type": "markdown",
   "metadata": {},
   "source": [
    "#### Acceso al archivo desde Colab\n",
    "\n",
    "Si este notebook está usándose en Google Colab, el archivo se debe almacenar en la carpeta `Colab Notebooks` de Google Drive, y para que el código en Python pueda tener acceso a él se debe quitar los comentarios y ejecutar la siguiente celda: "
   ]
  },
  {
   "cell_type": "code",
   "execution_count": 150,
   "metadata": {},
   "outputs": [],
   "source": [
    "#from google.colab import drive\n",
    "#drive.mount(\"/content/gdrive\")\n",
    "#%cd \"/content/gdrive/My Drive/Colab Notebooks/\""
   ]
  },
  {
   "cell_type": "markdown",
   "metadata": {},
   "source": [
    "El costo óptimo para un archivo dado se puede obtener con el siguiente código en Python, en el cual hacemos uso de los diccionarios provistos por el lenguaje:"
   ]
  },
  {
   "cell_type": "code",
   "execution_count": 160,
   "metadata": {},
   "outputs": [],
   "source": [
    "def calcula_costo_optimo(archivo): # lee el archivo, calcula frecuencias en orden descendente\n",
    "    f=open(archivo,\"r\")\n",
    "    texto=f.read()\n",
    "    palabras=texto.split()\n",
    "    frec={}\n",
    "    for x in palabras:\n",
    "        frec[x] = 1 if not x in frec else frec[x]+1\n",
    "    lista=[]\n",
    "    Copt=0\n",
    "    costo=0\n",
    "    for x in sorted(frec,key=frec.get,reverse=True):\n",
    "        costo+=1\n",
    "        Copt+=costo*frec[x]\n",
    "        lista.append((frec[x],x))\n",
    "    Copt/=len(palabras)\n",
    "    f.close()\n",
    "    return (Copt,lista)"
   ]
  },
  {
   "cell_type": "markdown",
   "metadata": {},
   "source": [
    "Como resultado, mostramos el costo esperado de búsqueda en una lista ordenada de manera óptima (C_OPT) y las palabras más frecuentes:"
   ]
  },
  {
   "cell_type": "code",
   "execution_count": 170,
   "metadata": {},
   "outputs": [
    {
     "name": "stdout",
     "output_type": "stream",
     "text": [
      "C_OPT=157.81\n",
      "\n",
      "(120, 'de')\n",
      "(105, 'y')\n",
      "(88, 'que')\n",
      "(44, 'a')\n",
      "(40, 'el')\n",
      "(38, 'en')\n",
      "(35, 'su')\n",
      "(33, 'la')\n",
      "(30, 'se')\n"
     ]
    }
   ],
   "source": [
    "(c,L)=calcula_costo_optimo(\"cap1.txt\")\n",
    "print('C_OPT={:6.2f}\\n'.format(c))\n",
    "for k in range(0,9):\n",
    "    print(L[k])"
   ]
  },
  {
   "cell_type": "markdown",
   "metadata": {},
   "source": [
    "### Caso 2: Probabilidades desconocidas\n",
    "\n",
    "Cuando las probabilidades son desconocidas, existen estrategias adaptativas, que van reordenando la lista dinámicamente a medida que los elementos son buscados, de modo de tratar de aproximar el orden óptimo. Hay dos técnicas que dan buenos resultados: \"traspose\" (TR) y \"move to front\" (MTF)."
   ]
  },
  {
   "cell_type": "markdown",
   "metadata": {},
   "source": [
    "### Transpose\n",
    "\n",
    "Esta técnica consiste en que cada vez que un elemento es accesado, se le mueve un lugar más adelante en la lista (a menos que ya esté en el primer lugar).\n",
    "Esto se puede implementar ya sea en un arreglo o en una lista enlazada. En la siguiente implementación usaremos una lista enlazada con cabecera.\n",
    "\n",
    "Si un elemento no se encuentra, simulamos como si hubiese estado al final de la lista. Para esto, mantendremos siempre disponible un nodo extra al final de la lista, en donde almacenaremos tentativamente la llave de búsqueda.\n",
    "Si finalmente se encuentra en ese nodo, se le incorpora a la lista y se crea un nuevo nodo extra.\n",
    "\n",
    "Para contabilizar el costo, el método `search` retorna el número de comparaciones de llaves que se hizo en la búsqueda."
   ]
  },
  {
   "cell_type": "code",
   "execution_count": 129,
   "metadata": {},
   "outputs": [],
   "source": [
    "class NodoLista:\n",
    "    def __init__(self,info,sgte=None):\n",
    "        self.info=info\n",
    "        self.sgte=sgte\n",
    "        \n",
    "class Lista_TR:\n",
    "    def __init__(self):\n",
    "        self.extra=NodoLista(0)\n",
    "        self.cabecera=NodoLista(0,self.extra)\n",
    "        \n",
    "    def search(self,x): # busca x (si no está lo inserta al final) y lo adelanta un lugar\n",
    "                        # retorna el costo de búsqueda\n",
    "        self.extra.info=x # agregamos x al final, en caso que no estuviera antes\n",
    "        p=self.cabecera\n",
    "        q=p.sgte\n",
    "        \n",
    "        # k cuenta el número de comparaciones de llaves\n",
    "        if q.info==x: # x ya está primero en la lista, no hacemos nada\n",
    "            k=1\n",
    "        else:\n",
    "            # buscamos del segundo en adelante\n",
    "            r=q.sgte\n",
    "            k=2\n",
    "            while r.info!=x:\n",
    "                (p,q,r)=(q,r,r.sgte)\n",
    "                k+=1\n",
    "            # r apunta al elemento buscado, lo movemos un lugar hacia adelante\n",
    "            (p.sgte,q.sgte,r.sgte)=(r,r.sgte,q)\n",
    "        if q.sgte is None: # se utilizó el nodo extra, agregamos uno nuevo\n",
    "            self.extra=NodoLista(0)\n",
    "            q.sgte=self.extra\n",
    "        return k\n",
    "\n",
    "    def imprimir(self):\n",
    "        p=self.cabecera.sgte\n",
    "        print(\"[\",end=\" \")\n",
    "        while p is not self.extra:\n",
    "            print(p.info,end=\" \")\n",
    "            p=p.sgte\n",
    "        print(\"]\")"
   ]
  },
  {
   "cell_type": "code",
   "execution_count": 130,
   "metadata": {},
   "outputs": [],
   "source": [
    "def test(Lista_adaptativa): # test interactivo\n",
    "    a=Lista_adaptativa()\n",
    "    while True:\n",
    "        x=input(\"x=\")\n",
    "        if x==\"fin\":\n",
    "            return\n",
    "        print(\"costo=\",a.search(x),end=\" \")\n",
    "        a.imprimir()"
   ]
  },
  {
   "cell_type": "code",
   "execution_count": 131,
   "metadata": {},
   "outputs": [
    {
     "name": "stdout",
     "output_type": "stream",
     "text": [
      "x=hola\n",
      "costo= 1 [ hola ]\n",
      "x=chao\n",
      "costo= 2 [ chao hola ]\n",
      "x=casa\n",
      "costo= 3 [ chao casa hola ]\n",
      "x=hola\n",
      "costo= 3 [ chao hola casa ]\n",
      "x=hola\n",
      "costo= 2 [ hola chao casa ]\n",
      "x=hola\n",
      "costo= 1 [ hola chao casa ]\n",
      "x=gato\n",
      "costo= 4 [ hola chao gato casa ]\n",
      "x=fin\n"
     ]
    }
   ],
   "source": [
    "test(Lista_TR)"
   ]
  },
  {
   "cell_type": "code",
   "execution_count": 171,
   "metadata": {},
   "outputs": [],
   "source": [
    "def procesa(archivo,Lista_adaptativa): # lee el archivo y calcula costo promedio de búsqueda\n",
    "    f=open(archivo,\"r\")\n",
    "    texto=f.read()\n",
    "    palabras=texto.split()\n",
    "    npalabras=0\n",
    "    costo_acum=0\n",
    "    a=Lista_adaptativa()\n",
    "    for x in palabras:\n",
    "        costo_acum+=a.search(x)\n",
    "        npalabras+=1\n",
    "    print(\"Costo promedio de búsqueda= {:6.2f}\".format(costo_acum/npalabras))\n",
    "    f.close()"
   ]
  },
  {
   "cell_type": "code",
   "execution_count": 172,
   "metadata": {},
   "outputs": [
    {
     "name": "stdout",
     "output_type": "stream",
     "text": [
      "Costo promedio de búsqueda= 208.74\n"
     ]
    }
   ],
   "source": [
    "procesa(\"cap1.txt\",Lista_TR)"
   ]
  },
  {
   "cell_type": "markdown",
   "metadata": {},
   "source": [
    "### Move-To-Front\n",
    "\n",
    "Esta técnica consiste en que cada vez que un elemento es accesado, se le mueve al primer lugar de la lista (a menos que ya esté en el primer lugar). Si un elemento no se encuentra, simulamos como si hubiese estado al final de la lista."
   ]
  },
  {
   "cell_type": "code",
   "execution_count": 138,
   "metadata": {},
   "outputs": [],
   "source": [
    "class Lista_MTF:\n",
    "    def __init__(self):\n",
    "        self.extra=NodoLista(0)\n",
    "        self.cabecera=NodoLista(0,self.extra)\n",
    "        \n",
    "    def search(self,x): # busca x (si no está lo inserta al final) y luego lo mueve al primer lugar\n",
    "        # retorna el costo de búsqueda\n",
    "        self.extra.info=x # agregamos x al final, en caso que no estuviera antes\n",
    "        p=self.cabecera\n",
    "        q=p.sgte\n",
    "        k=1 # cuenta el número de comparaciones de llaves\n",
    "        while q.info!=x:\n",
    "            (p,q)=(q,q.sgte)\n",
    "            k+=1\n",
    "        if q.sgte is None: # se utilizó el nodo extra, agregamos uno nuevo\n",
    "            self.extra=NodoLista(0)\n",
    "            q.sgte=self.extra\n",
    "        if k>1:  # x no está primero, move to front\n",
    "            (self.cabecera.sgte,p.sgte,q.sgte)=(q,q.sgte,self.cabecera.sgte)         \n",
    "        return k\n",
    "\n",
    "    def imprimir(self):\n",
    "        p=self.cabecera.sgte\n",
    "        print(\"[\",end=\" \")\n",
    "        while p is not self.extra:\n",
    "            print(p.info,end=\" \")\n",
    "            p=p.sgte\n",
    "        print(\"]\")"
   ]
  },
  {
   "cell_type": "code",
   "execution_count": 139,
   "metadata": {
    "scrolled": true
   },
   "outputs": [
    {
     "name": "stdout",
     "output_type": "stream",
     "text": [
      "x=hola\n",
      "costo= 1 [ hola ]\n",
      "x=casa\n",
      "costo= 2 [ casa hola ]\n",
      "x=chao\n",
      "costo= 3 [ chao casa hola ]\n",
      "x=hola\n",
      "costo= 3 [ hola chao casa ]\n",
      "x=casa\n",
      "costo= 3 [ casa hola chao ]\n",
      "x=casa\n",
      "costo= 1 [ casa hola chao ]\n",
      "x=gato\n",
      "costo= 4 [ gato casa hola chao ]\n",
      "x=fin\n"
     ]
    }
   ],
   "source": [
    "test(Lista_MTF)"
   ]
  },
  {
   "cell_type": "code",
   "execution_count": 173,
   "metadata": {},
   "outputs": [
    {
     "name": "stdout",
     "output_type": "stream",
     "text": [
      "Costo promedio de búsqueda= 188.82\n"
     ]
    }
   ],
   "source": [
    "procesa(\"cap1.txt\",Lista_MTF)"
   ]
  },
  {
   "cell_type": "markdown",
   "metadata": {},
   "source": [
    "En resumen, tenemos que para este texto en particular, el costo óptimo es 157.81, el costo promedio de TR es 208.74 y el de MTF es 188.82.\n",
    "\n",
    "Si en lugar de considerar un caso se analiza matemáticamente el caso general, suponiendo que los accesos llegan independientemente siguiendo la distribución dada y que el algoritmo corre durante un tiempo que tiende a infinito, se puede demostrar que\n",
    "\n",
    "$$\n",
    "C_{OPT} \\le C_{TR} \\le C_{MTF} \\le \\frac{\\pi}{2} C_{OPT}\n",
    "$$"
   ]
  },
  {
   "cell_type": "markdown",
   "metadata": {},
   "source": [
    "## Búsqueda en un arreglo ordenado: Búsqueda Binaria\n",
    "\n",
    "Ya hemos visto anteriormente que si los datos están en un arreglo ordenado, podemos hacer una búsqueda binaria, la que demora tiempo $\\lceil\\log_2{(n+1)}\\rceil=\\Theta(\\log{n})$ en el peor caso.\n",
    "\n",
    "Esto es bastante eficiente, pero tiene el problema que agregar o eliminar datos del arreglo toma tiempo $\\Theta(n)$ en el peor caso, por la necesidad de mantener el conjunto ordenado y compacto.\n",
    "Un objetivo que perseguiremos en el resto de este capítulo es tratar de encontrar estructuras de datos que nos permitan buscar de manera tan eficiente como la búsqueda binaria, junto con inserciones y eliminaciones igualmente eficientes.\n",
    "\n",
    "Pero antes de avanzar en esa dirección, consideremos la pregunta de si es posible buscar má rápido que la búsqueda binaria en el peor caso.\n",
    "\n",
    "### Cota inferior para la búsqueda por comparaciones\n",
    "\n",
    "Consideremos el problema de buscar una llave $x$ en un conjunto de tamaño 4, digamos $\\{a,b,c,d\\}$, con $a<b<c<d$. La siguiente figura ilustra una manera como podría hacerse esa búsqueda:\n",
    "\n",
    "![decision-tree](decision-tree.png)\n",
    "\n",
    "Este tipo de figura se llama un _árbol de decisión_, y en él los rombos representan preguntas y los rectángulos, las salidas (outputs) del algoritmo.\n",
    "\n",
    "Este árbol de decisión es uno entre la infinidad de árboles que podrían resolver el problema de la búsqueda. Lo importante que hay que observar es que todo algoritmo que funcione mediante comparaciones binarias (comparaciones con salidas \"Sí/No\") se puede representar por un árbol de decisión.\n",
    "\n",
    "En este tipo de árbol tenemos que:\n",
    "\n",
    "* La altura representa el número de comparaciones que hace el algoritmo en el peor caso, y\n",
    "* El número de hojas (cajas rectangulares) debe ser mayor o igual al número de respuestas posibles que debe ser capaz de emitir el algoritmo.\n",
    "\n",
    "Recordemos que si $N$ es el número de hojas y $h$ la altura, siempre se tiene $N\\le 2^h$, de donde se deduce que\n",
    "$h \\ge \\lceil\\log_2{N}\\rceil$ (porque la altura es un número entero), y en consecuencia, tenemos que\n",
    "\n",
    "$$\n",
    "\\text{Peor caso} \\ge \\lceil\\log_2{(\\text{número de respuestas distintas})}\\rceil\n",
    "$$\n",
    "\n",
    "Para el caso de la búsqueda binaria, tenemos que $N=n+1$, porque el algoritmo de búsqueda debe poder identificar a cada uno de los $n$ elementos, más la respuesta negativa cuando el elemento buscado no está. En consecuencia:\n",
    "\n",
    "**Todo algoritmo que busque en un conjunto de tamaño $n$ mediante comparaciones binarias debe hacer al menos\n",
    "$\\lceil\\log_2{(n+1)}\\rceil$ comparaciones en el peor caso.**\n",
    "\n",
    "Por lo tanto, la búsqueda binaria es óptima."
   ]
  },
  {
   "cell_type": "markdown",
   "metadata": {
    "slideshow": {
     "slide_type": "-"
    }
   },
   "source": [
    "## Árboles de Búsqueda Binaria (ABBs)\n",
    "\n",
    "Un _árbol de búsqueda binaria_ (_ABB_) es un árbol binario en que todos sus nodos internos cumplen la siguiente propiedad: Si la llave almacenada en el nodo es $x$, entonces todas las llaves en su subárbol izquierdo son menores que $x$, y las lleves en el subárbol derecho son mayores que $x$.\n",
    "\n",
    "![esquema-ABB2](esquema-ABB2.png)\n",
    "\n",
    "Los ABBs permiten realizar de manera eficiente (en promedio) las operaciones de inserción y búsqueda.\n",
    "\n",
    "### Búsqueda en un ABB\n",
    "\n",
    "La búsqueda es similar a una búsqueda binaria (de  ahí el nombre de estos árboles). Para buscar una llave $x$ se comienza en la raíz. Si $x$ se encuentra ahí, la búsqueda termina exitosamente. Si no está ahí, se continúa buscando  en el subárbol izquierdo si $x$ es menor que la raíz, o en el subárbol derecho si $x$ es mayor que la raíz. Si se llega a una hoja (nodo externo), la búsqueda concluye infructuosamente.\n",
    "\n",
    "### Inserción en un ABB\n",
    "\n",
    "Para insertar una llave $x$ en un ABB, se realiza una búsqueda, que debe ser infructuosa, y la hoja en donde termina la búsqueda se reemplaza por un nodo interno conteniendo la llave $x$, con dos nuevas hojas como hijos.\n",
    "\n",
    "![insercioABB](insercionABB.gif)"
   ]
  },
  {
   "cell_type": "markdown",
   "metadata": {},
   "source": [
    "### Implementación recursiva\n",
    "\n",
    "Los algoritmos de un ABB se prestan de manera natural a ser programados de manera recursiva, especialmente con la representación explícita de los nodos externos:"
   ]
  },
  {
   "cell_type": "code",
   "execution_count": 33,
   "metadata": {},
   "outputs": [],
   "source": [
    "class Nodoi:\n",
    "    def __init__(self, izq, info, der):\n",
    "        self.izq=izq\n",
    "        self.info=info\n",
    "        self.der=der\n",
    "        \n",
    "    def search(self,x):\n",
    "        if x==self.info:\n",
    "            return self\n",
    "        if x<self.info:\n",
    "            return self.izq.search(x)\n",
    "        else:\n",
    "            return self.der.search(x)\n",
    "        \n",
    "    def insert(self,x):\n",
    "        assert x!=self.info\n",
    "        if x<self.info:\n",
    "            return Nodoi(self.izq.insert(x),self.info,self.der)\n",
    "        else:\n",
    "            return Nodoi(self.izq,self.info,self.der.insert(x))\n",
    "        \n",
    "    def string(self):\n",
    "        return \"(\"+self.izq.string()+str(self.info)+self.der.string()+\")\"\n",
    "\n",
    "class Nodoe:\n",
    "    def __init__(self):\n",
    "        pass\n",
    "    \n",
    "    def search(self,x):\n",
    "        return None\n",
    "    \n",
    "    def insert(self,x):\n",
    "        return Nodoi(Nodoe(),x,Nodoe())\n",
    "    \n",
    "    def string(self):\n",
    "        return\"☐\"\n",
    "\n",
    "class Arbol:\n",
    "    def __init__(self,raiz=Nodoe()):\n",
    "        self.raiz=raiz     \n",
    "        \n",
    "    def insert(self,x):\n",
    "        self.raiz=self.raiz.insert(x)\n",
    "        \n",
    "    def search(self,x):\n",
    "        return self.raiz.search(x)\n",
    "    \n",
    "    def imprimir(self):        \n",
    "        print(self.raiz.string())"
   ]
  },
  {
   "cell_type": "markdown",
   "metadata": {},
   "source": [
    "Hemos incluído una función `imprimir` para poder visualizar (de forma algo rudimentaria) el árbol construído."
   ]
  },
  {
   "cell_type": "code",
   "execution_count": 40,
   "metadata": {},
   "outputs": [
    {
     "name": "stdout",
     "output_type": "stream",
     "text": [
      "((☐10☐)42((☐50☐)77☐))\n"
     ]
    }
   ],
   "source": [
    "a=Arbol()\n",
    "a.insert(42)\n",
    "a.insert(77)\n",
    "a.insert(50)\n",
    "a.insert(10)\n",
    "a.imprimir()"
   ]
  },
  {
   "cell_type": "markdown",
   "metadata": {},
   "source": [
    "Para probar nuestra implementación, definiremos una función `test`:"
   ]
  },
  {
   "cell_type": "code",
   "execution_count": 41,
   "metadata": {},
   "outputs": [],
   "source": [
    "def test(a,x):\n",
    "    print(x, \"está\" if a.search(x) is not None else \"no está\")"
   ]
  },
  {
   "cell_type": "code",
   "execution_count": 42,
   "metadata": {},
   "outputs": [
    {
     "name": "stdout",
     "output_type": "stream",
     "text": [
      "50 está\n",
      "90 no está\n"
     ]
    }
   ],
   "source": [
    "test(a,50)\n",
    "test(a,90)"
   ]
  },
  {
   "cell_type": "code",
   "execution_count": 43,
   "metadata": {},
   "outputs": [
    {
     "name": "stdout",
     "output_type": "stream",
     "text": [
      "((☐10☐)42((☐50☐)77(☐90☐)))\n",
      "90 está\n"
     ]
    }
   ],
   "source": [
    "a.insert(90)\n",
    "a.imprimir()\n",
    "test(a,90)"
   ]
  },
  {
   "cell_type": "markdown",
   "metadata": {},
   "source": [
    "### Implementación no recursiva\n",
    "\n",
    "Las operaciones de búsqueda e inserción en el árbol no necesitan programarse recursivamente, porque se pueden realizar en una sola pasada de arriba a abajo, sin necesidad de volver hacia arriba. En este caso, toda esa funcionalidad se implementa dentro de al clase `Arbol`:"
   ]
  },
  {
   "cell_type": "code",
   "execution_count": 44,
   "metadata": {},
   "outputs": [],
   "source": [
    "class Nodoi:\n",
    "    def __init__(self, izq, info, der):\n",
    "        self.izq=izq\n",
    "        self.info=info\n",
    "        self.der=der\n",
    "        \n",
    "    def string(self):\n",
    "        return \"(\"+self.izq.string()+str(self.info)+self.der.string()+\")\"\n",
    "\n",
    "class Nodoe:\n",
    "    def __init__(self):\n",
    "        pass\n",
    "    \n",
    "    def string(self):\n",
    "        return\"☐\"\n",
    "\n",
    "class Arbol:\n",
    "    def __init__(self,raiz=Nodoe()):\n",
    "        self.raiz=raiz\n",
    "        \n",
    "    def insert(self,x):\n",
    "        if isinstance(self.raiz, Nodoe):\n",
    "            self.raiz=Nodoi(Nodoe(),x,Nodoe())\n",
    "            return\n",
    "        p=self.raiz\n",
    "        while True:\n",
    "            assert x!=p.info\n",
    "            if x<p.info:\n",
    "                if isinstance(p.izq, Nodoe):\n",
    "                    p.izq=Nodoi(Nodoe(),x,Nodoe())\n",
    "                    return\n",
    "                p=p.izq\n",
    "            else: # x>p.info\n",
    "                if isinstance(p.der, Nodoe):\n",
    "                    p.der=Nodoi(Nodoe(),x,Nodoe())\n",
    "                    return\n",
    "                p=p.der\n",
    "                \n",
    "    def search(self,x):\n",
    "        p=self.raiz\n",
    "        while not isinstance(p, Nodoe):\n",
    "            if x==p.info:\n",
    "                return p\n",
    "            p=p.izq if x<p.info else p.der\n",
    "        return None\n",
    "    \n",
    "    def imprimir(self):        \n",
    "        print(self.raiz.string())"
   ]
  },
  {
   "cell_type": "code",
   "execution_count": 45,
   "metadata": {},
   "outputs": [
    {
     "name": "stdout",
     "output_type": "stream",
     "text": [
      "((☐10☐)42((☐50☐)77☐))\n"
     ]
    }
   ],
   "source": [
    "a=Arbol()\n",
    "a.insert(42)\n",
    "a.insert(77)\n",
    "a.insert(50)\n",
    "a.insert(10)\n",
    "a.imprimir()"
   ]
  },
  {
   "cell_type": "code",
   "execution_count": 46,
   "metadata": {},
   "outputs": [
    {
     "name": "stdout",
     "output_type": "stream",
     "text": [
      "50 está\n",
      "90 no está\n"
     ]
    }
   ],
   "source": [
    "test(a,50)\n",
    "test(a,90)"
   ]
  },
  {
   "cell_type": "code",
   "execution_count": 47,
   "metadata": {},
   "outputs": [
    {
     "name": "stdout",
     "output_type": "stream",
     "text": [
      "((☐10☐)42((☐50☐)77(☐90☐)))\n",
      "90 está\n"
     ]
    }
   ],
   "source": [
    "a.insert(90)\n",
    "a.imprimir()\n",
    "test(a,90)"
   ]
  },
  {
   "cell_type": "markdown",
   "metadata": {},
   "source": [
    "### Costo de búsqueda en un ABB\n",
    "\n",
    "#### Peor caso\n",
    "\n",
    "El peor caso para un árbol dado es la altura del árbol, y el peor árbol posible tiene altura $n$.\n",
    "Por lo tanto, el costo de búsqueda en el peor caso es $\\Theta(n)$.\n",
    "\n",
    "Lo anterior ocurre, por ejemplo, si los elementos se insertan en orden ascendente, o descendente, o en algún orden tipo \"zig-zag\". Es muy improbable que esto ocurra por casualidad, pero sí puede suceder si los datos provienen de algún otro proceso en que resultan naturalmente ordenados, o bien porque la secuencia de inserciones es generada por un adversario malicioso que busca hacer que el algoritmo funcione de la manera más lenta posible.\n",
    "\n",
    "#### Caso promedio\n",
    "\n",
    "Para analizar el costo esperado de búsqueda en un ABB con $n$ nodos, supondremos que en una inserción y en una búsqueda infructuosa, los $n+1$ nodos externos son igualmente probables como punto de destino de la búsqueda y de la inserción, y que en una búsqueda exitosa, los $n$ nodos internos son igualmente probables como punto de destino de la búsqueda.\n",
    "\n",
    "Recordemos que anteriormente definimos el _largo de caminos internos_ (_LCI_) como\n",
    "$\n",
    "I_n=\\sum_{x\\in \\text{Nodos internos}}\\text{distancia}(\\text{raiz},x)\n",
    "$,\n",
    "y el _largo de caminos externos_ (_LCE_) como\n",
    "$\n",
    "E_n=\\sum_{y\\in \\text{Nodos externos}}\\text{distancia}(\\text{raiz},y)\n",
    "$,\n",
    "para los cuales se cumple que\n",
    "$\n",
    "E_n=I_n+2n\n",
    "$.\n",
    "\n",
    "Utilizaremos las notaciones $C_n$ y $C'_n$ para el número esperado de comparaciones de llaves en una búsqueda exitosa e infructuosa, respectivamente. Entonces, tenemos que\n",
    "\n",
    "$$\n",
    "\\begin{align}\n",
    "C_n &= 1 + \\frac{I_n}{n}\\\\\n",
    "C'_n &= \\frac{E_n}{n+1}\n",
    "\\end{align}\n",
    "$$\n",
    "\n",
    "Reemplazando $E_n=I_n+2n$ en la fórmula para $C_n$, tenemos que\n",
    "\n",
    "$$\n",
    "C_n=1+\\frac{E_n-2n}{n}=\\frac{E_n}{n}-1=\\frac{n+1}{n}C'_n-1\n",
    "$$\n",
    "\n",
    "Por lo tanto, tenemos la siguiente relación entre los costos esperados de búsqueda exitoso e infructuoso:\n",
    "\n",
    "$$\n",
    "C_n=\\left( 1 +\\frac{1}{n}\\right) C'_n - 1\n",
    "$$\n",
    "\n",
    "de modo que, cuando $n \\rightarrow \\infty$\n",
    "\n",
    "$$\n",
    "C_n \\approx C'_n-1\n",
    "$$\n",
    "\n",
    "Para poder completar este análisis necesitamos una segunda ecuación que vincule a estas incógnitas.\n",
    "Para esto, observemos que _el costo de buscar un elemento que acaba de ser insertado es exactamente 1 más que el costo de buscarlo infructuosamente antes de su inserción_. Por lo tanto, si consideramos y promediamos los costos de búsqueda de los elementos en orden de inserción, tenemos que\n",
    "\n",
    "$$\n",
    "C_n=\\frac{(1+C'_0)+(1+C'_1)+\\cdots+(1+C'_{n-1})}{n}=1+\\frac{1}{n}\\sum_{0\\le k \\le n-1}C'_k\n",
    "$$\n",
    "\n",
    "Multiplicando ambos lados por $n$, tenemos\n",
    "\n",
    "$$\n",
    "nC_n=n+\\sum_{0\\le k \\le n-1}C'_k\n",
    "$$\n",
    "\n",
    "Sustituyendo $n$ por $n+1$ en esta ecuación, tenemos\n",
    "\n",
    "$$\n",
    "(n+1)C_{n+1}=n+1+\\sum_{0\\le k \\le n}C'_k\n",
    "$$\n",
    "\n",
    "Restando ambas ecuaciones, tenemos:\n",
    "\n",
    "$$\n",
    "(n+1)C_{n+1} - nC_n = 1+C'_n\n",
    "$$\n",
    "\n",
    "La relación que habíamos obtenido antes entre $C_c$ y $C'_n$ se puede reescribir como\n",
    "\n",
    "$$\n",
    "nC_n=(n+1)C'_n-n\n",
    "$$\n",
    "\n",
    "Reemplazando en la ecuación anterior, obtenemos:\n",
    "\n",
    "$$\n",
    "(n+2)C'_{n+1}-(n+1)-(n+1)C'_n+n=1+C'_n\n",
    "$$\n",
    "\n",
    "Lo que se simplifica a\n",
    "\n",
    "$$\n",
    "(n+2)(C'_{n+1}-C'_n)=2\n",
    "$$\n",
    "\n",
    "obteniéndose la ecuación de recurrencia\n",
    "\n",
    "$$\n",
    "\\begin{align}\n",
    "C'_{n+1} &= C'_n+\\frac{2}{n+2}\\\\\n",
    "C'_0 &= 0\n",
    "\\end{align}\n",
    "$$\n",
    "\n",
    "Esta ecuación se puede resolver \"desenrrollándola\", para obtener\n",
    "\n",
    "$$\n",
    "C'_n=2\\left(\\frac{1}{2}+\\frac{1}{3}+\\cdots+\\frac{1}{n+1}\\right)\n",
    "$$\n",
    "\n",
    "Si definimos los _números armónicos_ $H_n=1+\\frac{1}{2}+\\frac{1}{3}+\\cdots+\\frac{1}{n}$, podemos expresar la solución como\n",
    "\n",
    "$$\n",
    "C'_n=2(H_{n+1}-1)\n",
    "$$\n",
    "\n",
    "Los números armónicos son muy cercanos al logaritmo natural. Se puede demostrar que\n",
    "\n",
    "$$\n",
    "\\begin{align}\n",
    "H_n & \\le 1+\\int_1^n \\frac{1}{x}dx = 1+\\ln{n}\\\\\n",
    "H_n & \\ge \\int_1^{n+1} \\frac{1}{x}dx = \\ln{(n+1)}\n",
    "\\end{align}\n",
    "$$\n",
    "\n",
    "de donde obtenemos que\n",
    "\n",
    "$$\n",
    "\\ln{(n+1)} \\le H_n \\le 1+\\ln{n}\n",
    "$$\n",
    "\n",
    "Más precisamente, se puede demostrar que\n",
    "\n",
    "$$\n",
    "H_n = \\ln{n} + \\gamma + O\\left(\\frac{1}{n}\\right)\n",
    "$$\n",
    "\n",
    "donde $\\gamma\\approx 0.577\\ldots$ es la constante de Euler-Mascheroni."
   ]
  },
  {
   "cell_type": "code",
   "execution_count": 4,
   "metadata": {},
   "outputs": [
    {
     "name": "stdout",
     "output_type": "stream",
     "text": [
      "Populating the interactive namespace from numpy and matplotlib\n"
     ]
    }
   ],
   "source": [
    "%pylab inline"
   ]
  },
  {
   "cell_type": "code",
   "execution_count": 6,
   "metadata": {},
   "outputs": [
    {
     "data": {
      "image/png": "[encoded data removed]",
      "text/plain": [
       "<Figure size 432x288 with 1 Axes>"
      ]
     },
     "metadata": {
      "needs_background": "light"
     },
     "output_type": "display_data"
    }
   ],
   "source": [
    "H=np.zeros(100)\n",
    "n=range(1,101)\n",
    "H[0]=1;\n",
    "for k in range(1,100):\n",
    "    H[k]=H[k-1]+1/(k+1)\n",
    "plt.plot(n,H,label='$H_n$')\n",
    "plt.plot(n,log(n), label='$\\ln{n}$')\n",
    "leg=plt.legend(loc='best')"
   ]
  },
  {
   "cell_type": "markdown",
   "metadata": {},
   "source": [
    "Por lo tanto, el costo esperado de búsqueda (exitosa o infructuosa) en un ABB es aproximadamente $2H_n \\approx 2\\ln{n} \\approx 1.386 \\log_2{n}$, lo cual es solo $38.6$ por cierto peor que un árbol óptimo, cuyo costo de búsqueda es $\\log_2{n}$.\n",
    "\n",
    "Se puede demostrar que la varianza también es logarítmica, por lo que en la práctica el tiempo de búsqueda debería ser cercano al promedio.\n",
    "\n",
    "Sin embargo, este análisis supone que las inserciones llegan en orden aleatorio, lo cual no necesariamente se cumple en la vida real. "
   ]
  },
  {
   "cell_type": "markdown",
   "metadata": {},
   "source": [
    "### Eliminación en un ABB\n",
    "\n",
    "La eliminación de una llave $x$ es sencilla de efectuar en algunos casos, pero el caso complicado es cuando la llave tiene dos hijos:\n",
    "\n",
    "#### Eliminación de una llave sin hijos\n",
    "\n",
    "En este caso, el nodo interno que contiene a $x$ desaparece y en su lugar queda un nodo externo:\n",
    "\n",
    "![eliminacionABB1](eliminacionABB1.gif)\n",
    "\n",
    "#### Eliminación de una llave con 1 hijo\n",
    "\n",
    "En este caso, el padre de la llave $x$ pasa a apuntar al único hijo de $x$:\n",
    "\n",
    "![eliminacionABB2](eliminacionABB2.gif)\n",
    "\n",
    "#### Eliminación de una llave con 2 hijos\n",
    "\n",
    "Si $x$ tiene 2 hijos, no podemos eliminarla directamente, pero sí podemos eliminar a la que la sigue en orden ascendente, digamos $y$. Se puede demostrar que $y$ necesariamente es unos de los dos casos anteriores, de modo que es fácil de eliminar. Luego de concluído ese proceso, escribimos $y$ en lugar de $x$ en el campo `info` del nodo respectivo.\n",
    "\n",
    "![eliminacionABB3](eliminacionABB3.gif)\n",
    "\n",
    "Por simetría, esto mismo podría haberse hecho con la llave que sigue a $x$ en orden descendente.\n",
    "\n",
    "El análisis del costo esperado de búqueda que hicimos anteriormente es válido si solo hay inserciones. El análisis en el caso en que se incluyen eliminaciones es un un problema matemáticamente muy complicado, y sigue siendo un problema abierto. La evidencia experimental indica que se obtienen mejores resultados si se alterna o si se aleatoriza al elegir entre sucesor o el predecesor de $x$ en caso que haya que elegir."
   ]
  },
  {
   "cell_type": "markdown",
   "metadata": {},
   "source": [
    "### Implementación recursiva de la eliminación\n",
    "\n",
    "Por simplicidad, omitimos el código para la inserción y búsqueda, y en el caso de un nodo con 2 hijos, eliminamos siempre el sucesor. También ignoramos las eliminaciones de llaves que no están en el árbol."
   ]
  },
  {
   "cell_type": "code",
   "execution_count": 77,
   "metadata": {},
   "outputs": [],
   "source": [
    "class Nodoi:\n",
    "    def __init__(self, izq, info, der):\n",
    "        self.izq=izq\n",
    "        self.info=info\n",
    "        self.der=der\n",
    "    \n",
    "    def deletemin(self): # Elimina llave mínima del árbol, retorna (llave_min,raiz_arbol_restante)\n",
    "        if isinstance(self.izq,Nodoe): # No hay hijo izquierdo\n",
    "            return (self.info,self.der)\n",
    "        # hay hijo izquierdo\n",
    "        (llave_min,izq_sin_min)=self.izq.deletemin()\n",
    "        return (llave_min,Nodoi(izq_sin_min,self.info,self.der))\n",
    "        \n",
    "    def delete(self,x):\n",
    "        if x<self.info:\n",
    "            return Nodoi(self.izq.delete(x),self.info,self.der)\n",
    "        if x>self.info:\n",
    "            return Nodoi(self.izq,self.info,self.der.delete(x))\n",
    "        # x==self.info\n",
    "        if isinstance(self.izq,Nodoe): # No hay hijo izquierdo\n",
    "            return self.der\n",
    "        if isinstance(self.der,Nodoe): # No hay hijo derecho\n",
    "            return self. izq\n",
    "        # Hay hijo izquierdo y derecho\n",
    "        (y,der_sin_min)=self.der.deletemin()\n",
    "        return(Nodoi(self.izq,y,der_sin_min))\n",
    "        \n",
    "    def string(self):\n",
    "        return \"(\"+self.izq.string()+str(self.info)+self.der.string()+\")\"\n",
    "\n",
    "class Nodoe:\n",
    "    def __init__(self):\n",
    "        pass\n",
    "    \n",
    "    def delete(self,x):\n",
    "        return self\n",
    "    \n",
    "    def string(self):\n",
    "        return\"☐\"\n",
    "\n",
    "class Arbol:\n",
    "    def __init__(self,raiz=Nodoe()):\n",
    "        self.raiz=raiz     \n",
    "        \n",
    "    def delete(self,x):\n",
    "        self.raiz=self.raiz.delete(x)\n",
    "    \n",
    "    def imprimir(self):        \n",
    "        print(self.raiz.string())"
   ]
  },
  {
   "cell_type": "markdown",
   "metadata": {},
   "source": [
    "Para probar este algoritmo utilizaremos el árbol que vimos en el capítulo 4:\n",
    "\n",
    "![ejemplo-ABB](ejemplo-ABB.png)"
   ]
  },
  {
   "cell_type": "code",
   "execution_count": 78,
   "metadata": {},
   "outputs": [],
   "source": [
    "a=Arbol(\n",
    "    Nodoi(\n",
    "        Nodoi(\n",
    "            Nodoi(Nodoe(),15,Nodoe()),\n",
    "            20,\n",
    "            Nodoi(\n",
    "                Nodoi(Nodoe(),30,Nodoe()),\n",
    "                35,\n",
    "                Nodoe()\n",
    "            )\n",
    "        ),\n",
    "        42,\n",
    "        Nodoi(\n",
    "            Nodoi(\n",
    "                Nodoi(\n",
    "                    Nodoi(Nodoe(),65,Nodoe()),\n",
    "                    72,\n",
    "                    Nodoi(Nodoe(),81,Nodoe())\n",
    "                ),\n",
    "                90,\n",
    "                Nodoe()\n",
    "            ),\n",
    "            95,\n",
    "            Nodoe()\n",
    "        )\n",
    "       )\n",
    ")"
   ]
  },
  {
   "cell_type": "code",
   "execution_count": 79,
   "metadata": {},
   "outputs": [
    {
     "name": "stdout",
     "output_type": "stream",
     "text": [
      "(((☐15☐)20((☐30☐)35☐))42((((☐65☐)72(☐81☐))90☐)95☐))\n"
     ]
    }
   ],
   "source": [
    "a.imprimir()"
   ]
  },
  {
   "cell_type": "code",
   "execution_count": 80,
   "metadata": {},
   "outputs": [
    {
     "name": "stdout",
     "output_type": "stream",
     "text": [
      "(((☐15☐)20(☐35☐))42((((☐65☐)72(☐81☐))90☐)95☐))\n"
     ]
    }
   ],
   "source": [
    "a.delete(30)\n",
    "a.imprimir()"
   ]
  },
  {
   "cell_type": "code",
   "execution_count": 81,
   "metadata": {},
   "outputs": [
    {
     "name": "stdout",
     "output_type": "stream",
     "text": [
      "(((☐15☐)20(☐35☐))42(((☐65☐)72(☐81☐))90☐))\n"
     ]
    }
   ],
   "source": [
    "a.delete(95)\n",
    "a.imprimir()"
   ]
  },
  {
   "cell_type": "code",
   "execution_count": 82,
   "metadata": {},
   "outputs": [
    {
     "name": "stdout",
     "output_type": "stream",
     "text": [
      "(((☐15☐)20(☐35☐))65((☐72(☐81☐))90☐))\n"
     ]
    }
   ],
   "source": [
    "a.delete(42)\n",
    "a.imprimir()"
   ]
  },
  {
   "cell_type": "code",
   "execution_count": 83,
   "metadata": {},
   "outputs": [
    {
     "name": "stdout",
     "output_type": "stream",
     "text": [
      "(((☐15☐)20(☐35☐))65((☐72(☐81☐))90☐))\n"
     ]
    }
   ],
   "source": [
    "a.delete(44) # 44 no está en el árbol\n",
    "a.imprimir()"
   ]
  },
  {
   "cell_type": "code",
   "execution_count": 84,
   "metadata": {},
   "outputs": [
    {
     "name": "stdout",
     "output_type": "stream",
     "text": [
      "(((☐15☐)35☐)65((☐72(☐81☐))90☐))\n"
     ]
    }
   ],
   "source": [
    "a.delete(20)\n",
    "a.imprimir()"
   ]
  },
  {
   "cell_type": "markdown",
   "metadata": {},
   "source": [
    "### Implementación no recursiva de la eliminación\n",
    "\n",
    "Al programar la eliminación de esta manera, necesitamos modificar el nodo padre de $x$. Para simplificar, asegurando que todo nodo tenga un padre, incluso la raíz, durante el proceso de eliminación simularemos que la raíz es hija derecha de un nodo con llave \"$-\\infty$\"."
   ]
  },
  {
   "cell_type": "code",
   "execution_count": 108,
   "metadata": {},
   "outputs": [],
   "source": [
    "class Nodoi:\n",
    "    def __init__(self, izq, info, der):\n",
    "        self.izq=izq\n",
    "        self.info=info\n",
    "        self.der=der\n",
    "    \n",
    "    def string(self):\n",
    "        return \"(\"+self.izq.string()+str(self.info)+self.der.string()+\")\"\n",
    "\n",
    "class Nodoe:\n",
    "    def __init__(self):\n",
    "        pass\n",
    "    \n",
    "    def string(self):\n",
    "        return\"☐\"\n",
    "\n",
    "import math\n",
    "class Arbol:\n",
    "    def __init__(self,raiz=Nodoe()):\n",
    "        self.raiz=raiz     \n",
    "        \n",
    "    def delete(self,x):\n",
    "        cabecera=Nodoi(None,-math.inf,self.raiz)\n",
    "        p=cabecera # padre del candidato a ser eliminado\n",
    "        q=cabecera.der # el candidato\n",
    "        while not isinstance(q,Nodoe):\n",
    "            if x<q.info:\n",
    "                (p,q)=(q,q.izq)\n",
    "            elif x>q.info:\n",
    "                (p,q)=(q,q.der)\n",
    "            else: # encontramos x\n",
    "                if isinstance(q.izq,Nodoe): # no hay hijo izquierdo\n",
    "                    r=q.der\n",
    "                elif isinstance(q.der,Nodoe): # no hay hijo derecho\n",
    "                    r=q.izq\n",
    "                else: # hay 2 hijos, eliminamos el mínimo del árbol derecho y lo movemos a q\n",
    "                    s=q.der\n",
    "                    if isinstance(s.izq,Nodoe): # encontramos el mín de inmediato\n",
    "                        q.info=s.info\n",
    "                        q.der=s.der\n",
    "                    else: # el mín está más abajo\n",
    "                        t=s.izq # s es el padre del candidato a min, t es el candidato\n",
    "                        while not isinstance(t.izq,Nodoe): # mientras no encontremos el final de la rama izquierda\n",
    "                            (s,t)=(t,t.izq)\n",
    "                        q.info=t.info\n",
    "                        s.izq=t.der\n",
    "                    r=q\n",
    "                if x<p.info:\n",
    "                    p.izq=r\n",
    "                else:\n",
    "                    p.der=r\n",
    "                self.raiz=cabecera.der\n",
    "                return        \n",
    "        # si llegamos acá, x no estaba, no hacemos nada\n",
    "    \n",
    "    def imprimir(self):        \n",
    "        print(self.raiz.string())"
   ]
  },
  {
   "cell_type": "code",
   "execution_count": 94,
   "metadata": {},
   "outputs": [],
   "source": [
    "a=Arbol(\n",
    "    Nodoi(\n",
    "        Nodoi(\n",
    "            Nodoi(Nodoe(),15,Nodoe()),\n",
    "            20,\n",
    "            Nodoi(\n",
    "                Nodoi(Nodoe(),30,Nodoe()),\n",
    "                35,\n",
    "                Nodoe()\n",
    "            )\n",
    "        ),\n",
    "        42,\n",
    "        Nodoi(\n",
    "            Nodoi(\n",
    "                Nodoi(\n",
    "                    Nodoi(Nodoe(),65,Nodoe()),\n",
    "                    72,\n",
    "                    Nodoi(Nodoe(),81,Nodoe())\n",
    "                ),\n",
    "                90,\n",
    "                Nodoe()\n",
    "            ),\n",
    "            95,\n",
    "            Nodoe()\n",
    "        )\n",
    "       )\n",
    ")"
   ]
  },
  {
   "cell_type": "code",
   "execution_count": 95,
   "metadata": {},
   "outputs": [
    {
     "name": "stdout",
     "output_type": "stream",
     "text": [
      "(((☐15☐)20((☐30☐)35☐))42((((☐65☐)72(☐81☐))90☐)95☐))\n"
     ]
    }
   ],
   "source": [
    "a.imprimir()"
   ]
  },
  {
   "cell_type": "code",
   "execution_count": 96,
   "metadata": {},
   "outputs": [
    {
     "name": "stdout",
     "output_type": "stream",
     "text": [
      "(((☐15☐)20(☐35☐))42((((☐65☐)72(☐81☐))90☐)95☐))\n"
     ]
    }
   ],
   "source": [
    "a.delete(30)\n",
    "a.imprimir()"
   ]
  },
  {
   "cell_type": "code",
   "execution_count": 97,
   "metadata": {},
   "outputs": [
    {
     "name": "stdout",
     "output_type": "stream",
     "text": [
      "(((☐15☐)20(☐35☐))42(((☐65☐)72(☐81☐))90☐))\n"
     ]
    }
   ],
   "source": [
    "a.delete(95)\n",
    "a.imprimir()"
   ]
  },
  {
   "cell_type": "code",
   "execution_count": 98,
   "metadata": {},
   "outputs": [
    {
     "name": "stdout",
     "output_type": "stream",
     "text": [
      "(((☐15☐)20(☐35☐))65((☐72(☐81☐))90☐))\n"
     ]
    }
   ],
   "source": [
    "a.delete(42)\n",
    "a.imprimir()"
   ]
  },
  {
   "cell_type": "code",
   "execution_count": 99,
   "metadata": {},
   "outputs": [
    {
     "name": "stdout",
     "output_type": "stream",
     "text": [
      "(((☐15☐)20(☐35☐))65((☐72(☐81☐))90☐))\n"
     ]
    }
   ],
   "source": [
    "a.delete(44) # 44 no está en el árbol\n",
    "a.imprimir()"
   ]
  },
  {
   "cell_type": "code",
   "execution_count": 100,
   "metadata": {},
   "outputs": [
    {
     "name": "stdout",
     "output_type": "stream",
     "text": [
      "(((☐15☐)35☐)65((☐72(☐81☐))90☐))\n"
     ]
    }
   ],
   "source": [
    "a.delete(20)\n",
    "a.imprimir()"
   ]
  },
  {
   "cell_type": "markdown",
   "metadata": {},
   "source": [
    "## Rotaciones en un ABB\n",
    "\n",
    "Una operación que es la base de muchos algoritmos es la _rotación_ (o rotación simple, para diferenciarla de la rotación doble, que veremos más adelante).\n",
    "\n",
    "Una rotación entre los nodos $b$ y $d$ es la siguiente transformación:\n",
    "\n",
    "![rotacion-simple](rotacion-simple.png)\n",
    "\n",
    "Como lo sugiere la figura, por simetría esta operación también se puede hacer en la dirección inversa.\n",
    "\n",
    "Esta operación tiene costo constante, porque solo requiere modificar tres punteros, y preserva el orden de izquierda a derecha que caracteriza a un ABB. Su efecto es que $A$ y $b$ suben un nivel, mientras que $d$ y $E$ bajan un nivel."
   ]
  },
  {
   "cell_type": "markdown",
   "metadata": {},
   "source": [
    "### Aplicación: Inserción en la raíz\n",
    "\n",
    "El método estándar de inserción en un ABB es inserción en las hojas.\n",
    "Veremos a continuación que existe un método alternativo, que deja al nuevo elemento como raíz del árbol.\n",
    "\n",
    "El método consiste en insertar el nuevo elemento de la manera usual, y luego hacer una secuencia de rotaciones que vayan haciéndolo ascender, hasta que llegue a estar en la raíz."
   ]
  },
  {
   "cell_type": "code",
   "execution_count": 12,
   "metadata": {},
   "outputs": [],
   "source": [
    "class Nodoi:\n",
    "    def __init__(self, izq, info, der):\n",
    "        self.izq=izq\n",
    "        self.info=info\n",
    "        self.der=der\n",
    "    def right_rotation(self):\n",
    "        return(Nodoi(self.izq.izq,\n",
    "                     self.izq.info,\n",
    "                     Nodoi(self.izq.der,self.info,self.der)))   \n",
    "    def left_rotation(self):\n",
    "        return(Nodoi(Nodoi(self.izq,self.info,self.der.izq),\n",
    "                     self.der.info,\n",
    "                     self.der.der))\n",
    "    def root_insert(self,x):\n",
    "        assert x!=self.info\n",
    "        if x<self.info:\n",
    "            self.izq=self.izq.root_insert(x) # x queda como raíz del hijo izquierdo\n",
    "            return self.right_rotation() # la rotación deja a x como raíz\n",
    "        else:\n",
    "            self.der=self.der.root_insert(x) # x queda como raíz del hijo derecho\n",
    "            return self.left_rotation() # la rotación deja a x como raíz\n",
    "        \n",
    "    def string(self):\n",
    "        return \"(\"+self.izq.string()+str(self.info)+self.der.string()+\")\"\n",
    "\n",
    "class Nodoe:\n",
    "    def __init__(self):\n",
    "        pass\n",
    "    \n",
    "    def root_insert(self,x):\n",
    "        return Nodoi(Nodoe(),x,Nodoe())\n",
    "    \n",
    "    def string(self):\n",
    "        return\"☐\"\n",
    "\n",
    "class Arbol:\n",
    "    def __init__(self,raiz=Nodoe()):\n",
    "        self.raiz=raiz     \n",
    "        \n",
    "    def root_insert(self,x):\n",
    "        self.raiz=self.raiz.root_insert(x)\n",
    "    \n",
    "    def imprimir(self):        \n",
    "        print(self.raiz.string())"
   ]
  },
  {
   "cell_type": "code",
   "execution_count": 13,
   "metadata": {},
   "outputs": [
    {
     "name": "stdout",
     "output_type": "stream",
     "text": [
      "(☐10☐)\n",
      "((☐10☐)20☐)\n",
      "(((☐10☐)20☐)30☐)\n",
      "(((☐10☐)20☐)25(☐30☐))\n",
      "((☐10☐)15((☐20☐)25(☐30☐)))\n"
     ]
    }
   ],
   "source": [
    "a=Arbol()\n",
    "a.root_insert(10)\n",
    "a.imprimir()\n",
    "a.root_insert(20)\n",
    "a.imprimir()\n",
    "a.root_insert(30)\n",
    "a.imprimir()\n",
    "a.root_insert(25)\n",
    "a.imprimir()\n",
    "a.root_insert(15)\n",
    "a.imprimir()"
   ]
  },
  {
   "cell_type": "markdown",
   "metadata": {},
   "source": [
    "### Aplicación: Árboles cartesianos y \"Treaps\"\n",
    "\n",
    "Un _árbol cartesiano_ es un árbol binario en que cada nodo interno contiene un par ordenado $(x,y)$, tal que:\n",
    "\n",
    "* Si se consideran las coordenadas $x$, el árbol es un ABB\n",
    "* Si se consideran las coordenadas $y$, el árbol es un árbol de prioridad\n",
    "\n",
    "La siguiente figura muestra a un árbol cartesiano en que la máxima prioridad corresponde al valor mínimo de $y$:\n",
    "\n",
    "![cartesian-tree](cartesian-tree.png)\n",
    "\n",
    "Intuitivamente, podemos imaginar que la prioridad $y$ corresponde a la hora en que la llave $x$ ingresó al árbol. Esto explica que la raíz tenga el valor mínimo de $y$, y que estos valores vayan creciendo a medida que descendemos en el árbol.\n",
    "\n",
    "Sin embargo, _no estamos obligados a insertar las llaves en orden cronológico_. En efecto, veremos que un nuevo par $(x,y)$ se puede insertar en cualquier momento, aunque su $y$ no sea mayor que los de los nodos que ya están en el árbol..\n",
    "\n",
    "Para insertar un nuevo par ordenado en un árbol cartesiano, primero efectuamos una inserción como si fuera un ABB, con lo cual el nuevo nodo cumple con las restricciones \"izquierda-derecha\" en su coordenada $x$, pero posiblemente no con las restricciones de prioridad \"arriba-abajo\" de la coordenada $y$. Para corregir esto último, a continuación, hacemos una serie de rotaciones hasta conseguir que el nuevo nodo cumpla con las restricciones de prioridad.\n",
    "\n",
    "También es posible eliminar un nodo dado de un árbol cartesiano. Como al eliminar un nodo sus dos árboles hijos quedan \"huérfanos\", es necesario fusionarlos en uno solo. Para esto, elegimos a la raíz de mejor prioridad para que quede como raíz del árbol resultante. De los tres subárboles restantes, uno va a un lado de la nueva raíz, y los otros dos deben fusionarse recursivamente.\n",
    "\n",
    "Una vez que tenemos una implementación de árboles cartesianos, podemos utilizarla para obtener un nuevo tipo de diccionario, llamado un _Treap_ (mezcla de \"tree\" y de \"heap\"), que posee las mismas características de desempeño promedio que un ABB, pero que es inmune a que las llaves lleguen ordenadas, o a que un adversario le entregue la secuencia de inserciones en un orden malicioso. Para esto, dado una nueva llave $x$ para insertar, generamos una prioridad $y$ _al azar_, e insertamos el par $(x,y)$ resultante. El efecto neto es equivalente a si las llaves hubieran llegado en un orden aleatorio."
   ]
  },
  {
   "cell_type": "markdown",
   "metadata": {},
   "source": [
    "## Árboles AVL\n",
    "\n",
    "Veremos a continuación que es posible implementar diccionarios en que los costos de búsqueda, inserción y eliminación son garantizadamente $O(\\log{n})$ _en el peor caso_.\n",
    "\n",
    "Hay muchas maneras de conseguir esto a través de modificaciones del algoritmo básico de los ABBs, y hablamos en general de _árboles balanceados_ para referirnos a este tipo de diccionarios.\n",
    "\n",
    "Comenzaremos viendo el más antiguo de estos algoritmos, inventado por Adelson-Velskii y Landis y conocido por sus iniciales como _árboles AVL_.\n",
    "\n",
    "Si queremos garantizar un costo de búsqueda logarítmico, lo ideal sería poder construir árboles perfectamente balanceados, en que siempre los elementos se repartieran en partes iguales a ambos lados de la raíz, y en que por lo tanto las alturas a ambos lados también fueran idénticas.\n",
    "Pero eso no es posible por varias razones.\n",
    "Por una parte, porque el costo de insertar un nuevo elemento en ese tipo de árbol sería muy grande en el peor caso, pero también porque a medida que bajamos en en árbol, a menos que el número de llaves sea exactamente uno menos que una potencia de $2$, necesariamente terminaremos encontrando subárboles de tamaño $2$, en los cuales a un lado hay un árbol de altura $1$, y al otro lado un árbol de altura $0$.\n",
    "\n",
    "Por lo tanto, es necesario relajar un poco la exigencia, para acomodar a ese tipo de subárboles.\n",
    "\n",
    "Los árboles AVL se definen como ABBs en que todos sus nodos internos cumplen además una condición de _altura balanceada_, que consiste en que sus subárboles hijos pueden tener alturas diferentes, pero la diferencia de sus alturas no puede ser mayor que 1.\n",
    "\n",
    "![condicion-AVL](condicion-AVL.png)\n",
    "\n",
    "Más precisamente, si la función $h(T)$ es la altura del árbol $T$, para cada nodo interno sus subárboles hijos, digamos $A$ y $B$, deben cumplir que $|h(A)-h(B)|\\le 1$.\n",
    "\n",
    "El siguiente ejemplo muestra un árbol en que en cada nodo (interno o externo) se ha anotado la altura del subárbol que lo tiene como raíz.\n",
    "Este árbol cumple la condición AVL en todos sus nodos, excepto en el que aparece marcado con asterisco, cuyos hijos tienen diferencia de altura 2, y por lo tanto el árbol no es AVL.\n",
    "\n",
    "![ejemplo-no-AVL](ejemplo-no-AVL.png)\n",
    "\n",
    "En cambio, este otro árbol, muy similar, sí cumple la condición en todos sus nodos, y es por lo tanto un árbol AVL.\n",
    "\n",
    "![ejemplo-AVL](ejemplo-AVL.png)"
   ]
  },
  {
   "cell_type": "markdown",
   "metadata": {},
   "source": [
    "### Altura mínima y máxima de un árbol AVL\n",
    "\n",
    "Consideremos un árbol AVL con $n$ llaves y altura $h$.\n",
    "Sabemos que su número de hojas es $n+1$, y también sabemos que el número de hojas es menor o igual a $2^h$.\n",
    "Por lo tanto, $h \\ge \\lceil\\log_2{(n+1)}\\rceil$.\n",
    "\n",
    "Para encontrar una cota superior, consideremos la familia $A_h$ de los árboles AVL de altura $h$ con el mínimo número de hojas. Si $h=0$, el único árbol posible es el árbol vacío (solo una hoja) y es AVL.\n",
    "Si $h=1$, el único árbol posible es el que tiene un nodo interno y dos hojas como hijos, y también es AVL.\n",
    "\n",
    "Consideremos el caso $h\\ge 2$. El árbol $A_h$ debe tener una raíz y dos subárboles hijos. Si queremos economizar al máximo el número de hojas, uno de ellos debe tener altura $h-1$, para que la altura del árbol completo sea $h$, y el otro debe tener altura $h-2$, para que se cumpla la condición AVL, y ambos deben tener el mínimo posible de hojas, es decir, deben pertenecer a la misma familia.\n",
    "\n",
    "Por lo tanto, la familia $A_h$ se puede construir recursivamente de la siguiente manera:\n",
    "\n",
    "![arboles-fibonacci](arboles-fibonacci.png)\n",
    "\n",
    "Los árboles así construídos se llaman _árboles de Fibonacci_.\n",
    "\n",
    "Si llamamos $N_h$ al número de hojas del árbol $A_h$, tenemos que\n",
    "\n",
    "$$\n",
    "\\begin{align}\n",
    "N_0 &= 1\\\\\n",
    "N_1 &= 2\\\\\n",
    "N_h &= N_{h-1} + N_{h-2}\n",
    "\\end{align}\n",
    "$$\n",
    "\n",
    "Esta es la misma ecuación de Fibonacci, comenzando un paso más adelante. Por lo tanto, si denotamos $f_n$ al $n$-ésimo número de Fibonacci, tenemos que $N_h=f_{h+1}=\\Theta(\\phi^h)$.\n",
    "\n",
    "Como los árboles de Fibonacci son los árboles AVL con el mínimo de hojas, cualquier otro árbol AVL tendrá más hojas que ellos, y por lo tanto, tomando logaritmos, la altura de todo árbol AVL será $O(\\log_{\\phi}{(n+1)})$."
   ]
  },
  {
   "cell_type": "markdown",
   "metadata": {},
   "source": [
    "### Operaciones sobre un árbol AVL"
   ]
  },
  {
   "cell_type": "markdown",
   "metadata": {},
   "source": [
    "#### Búsqueda\n",
    "\n",
    "Un árbol AVL es un ABB (con una condición adicional de balance), así que el algoritmo de búsqueda es el mismo.\n",
    "El que la altura de todo árbol AVL sea logarítmica garantiza que las operaciones de búsqueda tomarán tiempo logarítmico en el peor caso."
   ]
  },
  {
   "cell_type": "markdown",
   "metadata": {},
   "source": [
    "#### Inserción\n",
    "\n",
    "Veremos a continuación que se puede insertar una nueva llave en un árbol AVL, preservando la condición AVL, en tiempo a lo más proporcional a la altura del árbol.\n",
    "\n",
    "Supongamos que se inserta una nueva llave $x$ en un árbol AVL como el que muestra la siguiente figura:\n",
    "\n",
    "![AVL1](AVL1.png)\n",
    "\n",
    "Supongamos que se inserta la llave $x$, siguiendo una trayectoria desde la raíz hasta la hoja respectiva, y que luego se retorna hacia arriba revisando en cada nodo de esa trayectoria si la condición AVL se sigue cumpliendo. Si en todos ellos la condición se cumple, no es necesario hacer nada más. Si no, supongamos qie el nodo marcado con asterisco ($d$) es el primero (de abajo hacia arriba) en donde la condición no se cumple.\n",
    "\n",
    "Consideremos primero el caso en que a partir de $d$, los dos pasos siguientes hacia abajo fueron en la misma dirección (ambos hacia la izquierda, en la figura). Esto se llama una _inserción exterior_, y los dos pasos son de tipo \"zig-zig\" (o \"zag-zag\", en el caso simétrico en que los dos pasos fueron hacia la derecha).\n",
    "\n",
    "Para que la condición AVL no se cumpla en $d$ y sí se cumpla en $b$, es necesario que los tres subárboles $A$, $C$ y $E$ sean todos de la misma altura, digamos $h$, y que la inserción de $x$ haga que la altura de $A$ crezca a $h+1$. Nótese que la altura del árbol, antes de la inserción, era $h+2$.\n",
    "\n",
    "En este caso hacemos una rotación (simple) entre los nodos $b$y $d$, con el resultado que se muestra a la derecha. En el árbol resultante, los nodos $b$ y $d$ ahora cumplen la condición AVL (con diferencia cero) y, más aún, después de esta rotación, el árbol resultante tiene altura $h+2$. Por lo tanto, el árbol completo no ha cambiado de altura, lo cual implica que ningún nodo más arriba puede estar desbalanceado.\n",
    "\n",
    "Por lo tanto, en el caso de una inserción exterior, basta con a lo más una rotación para restaurar la condición AVL en todo el árbol.\n",
    "\n",
    "Consideremos ahora el caso de una _inserción interior_, en que los dos primeros pasos fueron en direcciones opuestas (\"zig-zag\" o el simétrico \"zag-zig\"):\n",
    "\n",
    "![AVL2](AVL2.png)\n",
    "\n",
    "En este caso, es necesario entrar a examinar la estructura interna del subárbol $C$:\n",
    "\n",
    "![AVL3](AVL3.png)\n",
    "\n",
    "En este caso, $x$ puede ir al subárbol $F$ o al subárbol $G$ indistintamente (¡pero no a ambos!).\n",
    "Para restaurar la condición de balance AVL, necesitamos hacer _dos_ rotaciones: primero entre $c$ y $b$, y luego entre $c$ y $d$. El resultado neto es que el zig-zag $d-b-c$ se transforma en el subárbol perfectamente balanceado $b-c-d$.\n",
    "El efecto combinado de estas dos rotaciones se llama una _rotación doble_.\n",
    "\n",
    "Tal como ocurrió en el caso anterior, los tres nodos involucrados quedan cumpliendo la condición AVL, y el árbol resultante tiene altura $h+2$, la misma que tenía antes de la inserción. Por lo tanto, no puede haber nodos desbalanceados más arriba.\n",
    "\n",
    "Esto, sumado a lo que vimos antes, demuestra que **a lo más una rotación (simple o doble) basta para recuperar el balance AVL después de una inserción**."
   ]
  },
  {
   "cell_type": "code",
   "execution_count": 10,
   "metadata": {},
   "outputs": [],
   "source": [
    "class Nodoi:\n",
    "    def __init__(self, izq, info, der):\n",
    "        self.izq=izq\n",
    "        self.info=info\n",
    "        self.der=der\n",
    "        self.height=1+max(izq.height,der.height)\n",
    "\n",
    "    def right_rotation(self):\n",
    "        return(Nodoi(self.izq.izq,\n",
    "                     self.izq.info,\n",
    "                     Nodoi(self.izq.der,self.info,self.der)))\n",
    "    \n",
    "    def left_rotation(self):\n",
    "        return(Nodoi(Nodoi(self.izq,self.info,self.der.izq),\n",
    "                     self.der.info,\n",
    "                     self.der.der))\n",
    "        \n",
    "    def insert(self,x):\n",
    "        assert x!=self.info\n",
    "        if x<self.info:\n",
    "            p=Nodoi(self.izq.insert(x),self.info,self.der)\n",
    "            if p.izq.height>p.der.height+1:\n",
    "                if x<p.izq.info: # inserción exterior\n",
    "                    p=p.right_rotation()\n",
    "                else: # inserción interior\n",
    "                    p=Nodoi(p.izq.left_rotation(),p.info,p.der).right_rotation()           \n",
    "        else: # x>p.info, simétrico del anterior\n",
    "            p=Nodoi(self.izq,self.info,self.der.insert(x))\n",
    "            if p.der.height>p.izq.height+1:\n",
    "                if x>p.der.info: # inserción exterior\n",
    "                    p=p.left_rotation()\n",
    "                else: # inserción interior\n",
    "                    p=Nodoi(p.izq,p.info.p.der.right_rotation()).left_rotation()         \n",
    "        return p\n",
    "        \n",
    "    def string(self):\n",
    "        return \"(\"+self.izq.string()+str(self.info)+self.der.string()+\")\"\n",
    "\n",
    "class Nodoe:\n",
    "    def __init__(self):\n",
    "        self.height=0\n",
    "    \n",
    "    def insert(self,x):\n",
    "        return Nodoi(Nodoe(),x,Nodoe())\n",
    "    \n",
    "    def string(self):\n",
    "        return\"☐\"\n",
    "\n",
    "class ArbolAVL:\n",
    "    def __init__(self,raiz=Nodoe()):\n",
    "        self.raiz=raiz     \n",
    "        \n",
    "    def insert(self,x):\n",
    "        self.raiz=self.raiz.insert(x)\n",
    "    \n",
    "    def imprimir(self):        \n",
    "        print(self.raiz.string())"
   ]
  },
  {
   "cell_type": "code",
   "execution_count": 11,
   "metadata": {},
   "outputs": [
    {
     "name": "stdout",
     "output_type": "stream",
     "text": [
      "(☐20☐)\n",
      "(☐20(☐40☐))\n",
      "((☐20☐)40(☐80☐))\n",
      "(((☐10☐)20☐)40(☐80☐))\n",
      "(((☐10☐)15(☐20☐))40(☐80☐))\n"
     ]
    }
   ],
   "source": [
    "a=ArbolAVL()\n",
    "a.insert(20)\n",
    "a.imprimir()\n",
    "a.insert(40)\n",
    "a.imprimir()\n",
    "a.insert(80)\n",
    "a.imprimir()\n",
    "a.insert(10)\n",
    "a.imprimir()\n",
    "a.insert(15)\n",
    "a.imprimir()"
   ]
  },
  {
   "cell_type": "markdown",
   "metadata": {},
   "source": [
    "#### Eliminación\n",
    "\n",
    "La eliminación en árbol AVL se realiza de manera análoga a un ABB, pero también es necesario verificar que la condición de balance se mantenga una vez eliminado el elemento. En caso que dicha condición se pierda, será necesario realizar una rotación simple o doble dependiendo del caso, pero es posible que se requiera más de una rotación para reestablecer el balance del árbol."
   ]
  },
  {
   "cell_type": "markdown",
   "metadata": {},
   "source": [
    "## Árboles 2-3\n",
    "\n",
    "Los árboles 2-3 son árboles cuyos nodos internos pueden ser _binarios_ o _ternarios_. Los nodos binarios tienen una llave en su interior, y los nodos ternarios tienen dos llaves.\n",
    "\n",
    "Las llaves contenidas en los nodos del árbol cumplen la siguiente relación de orden de izquierda a derecha:\n",
    "\n",
    "![orden-2-3](orden-2-3.png)\n",
    "\n",
    "En un nodo binario, la llave $X$ actúa como separador entre las llaves del subárbol izquierdo y las del derecho.\n",
    "En un nodo ternario, la llave $X$ separa el subárbol izquierdo del subárbol del medio, y la llave $Y$ separa el subárbol del medio del subárbol derecho.\n",
    "\n",
    "Gracias a este orden, se puede realizar una búsqueda utilizando una generalización del algoritmo de búsqueda en un ABB.\n",
    "\n",
    "Además de lo anterior, un árbol 2-3 debe tener a todas sus hojas en el mismo nivel. El siguiente es un ejemplo de un árbol 2-3 que satisface ambas condiciones:\n",
    "\n",
    "![ejemplo-2-3](ejemplo-2-3.png)\n",
    "\n",
    "Nótese que si un árbol 2-3 tiene $n$ llaves, ya no necesariamente se cumple que el número de hojas (nodos externos) sea uno más que el número de nodos internos, pero sí se cumple que el número de hojas es igual a $n+1$.\n",
    "\n",
    "Dado que la altura de un árbol 2-3 es mínima si todos sus nodos son ternarios y es máxima si todos sus nodos son binarios, es fácil ver que\n",
    "\n",
    "$$\n",
    "\\log_3{(n+1)} \\le \\text{ altura } \\le \\log_2{(n+1)}\n",
    "$$\n",
    "\n",
    "y por lo tanto el costo de búsqueda es logarítmico en el peor caso."
   ]
  },
  {
   "cell_type": "markdown",
   "metadata": {},
   "source": [
    "### Inserción en un árbol 2-3\n",
    "\n",
    "Para insertar una nueva llave $X$ en un árbol 2-3, se realiza una búsqueda infructuosa y se inserta dicha llave en el último nodo interno visitado durante la búsqueda. Esto puede conducir a dos casos distintos:\n",
    "\n",
    "* Si el nodo tenía solo una llave (era binario), ahora queda con dos llaves y pasa a ser ternario:\n",
    "\n",
    "![insercion-2-3-binario](insercion-2-3-binario.png)\n",
    "\n",
    "* Si el nodo tenía 2 llaves (era ternario), queda transitoriamente con 3 llaves y 4 hijos. Se dice que ese nodo está saturado, o que tiene _overflow_, y esto se corrige dividiendo el nodo en dos nodos binarios (_split_). Los 4 hijos se reparten entre esos dos nodos. Respecto a las llaves, la menor queda en el nodo izquierdo, la mayor en el nodo derecho, y la mediana sube y se inserta en el padre, para actuar como separador entre los dos subárboles resultantes del _split_.\n",
    "\n",
    "![insercion-2-3-ternario](insercion-2-3-ternario.png)\n",
    "\n",
    "Si el padre era binario, la llegada de una nueva llave lo transforma en ternario y el proceso concluye ahí. Pero si ya era ternario, el padre ahora está saturado y el proceso se repite.\n",
    "\n",
    "En el peor caso, es posible que la raíz llegue a dividirse. En ese caso, se crea una nueva raíz un nivel más arriba la altura del árbol crece en 1.\n",
    "\n",
    "#### Ejemplo de inserciones en un árbol 2-3\n",
    "\n",
    "![inserciones-2-3](inserciones-2-3.png)"
   ]
  },
  {
   "cell_type": "markdown",
   "metadata": {},
   "source": [
    "### Eliminación en un árbol 2-3\n",
    "\n",
    "Supongamos que queremos eliminar una llave $Z$. Sin perder generalidad, podemos suponer que $Z$ está en el nivel más bajo de árbol. Si esto no es así, entonces el sucesor y el predecesor de $Z$ se encuentran necesariamente en el nivel inferior, en cuyo caso basta con eliminar uno de ellos, y luego sobreescribir esa llave en el lugar de $Z$.\n",
    "\n",
    "La eliminación presenta dos posibles casos:\n",
    "\n",
    "* El nodo en donde se encuentra $Z$ es ternario. En este caso, se elimina $Z$ junto con una hoja y el nodo queda como binario.\n",
    "![eliminacion2-3a](eliminacion2-3a.gif)\n",
    "\n",
    "* El nodo en donde se encuentra $Z$ es binario. En ese caso, al eliminar $Z$ y una hoja, el nodo queda como \"unario\" y sin llaves (_underflow_). Cuando esto sucede, tenemos dos casos:\n",
    "\n",
    "    * Si el nodo hermano es ternario, le quitamos una llave y una hoja y ambos quedan como binarios. Nótese que, para preservar el orden, se debe realizar un traspaso con la llave en el padre que separa a ambos nodos:\n",
    "    ![eliminacion2-3b](eliminacion2-3b.gif)\n",
    "    \n",
    "    * Si el nodo hermano es binario, no le podemos quitar nada. En ese caso, fusionamos a ambos hermanos, resultando un nodo ternario, y la llave del padre que actuaba como separador baja a este nuevo nodo:\n",
    "    ![eliminacion2-3c](eliminacion2-3c.gif)\n",
    "    Cuando ocurre esto último, el padre pierde un hijo y una llave, lo cual podría dejarlo transformado en unario. En ese caso, se repite el procedimiento anterior, un nivel más arriba.\n",
    "    \n",
    "El peor caso es que finalmente la raíz quede como un nodo vacío unario. En ese caso, se elimina esa raíz y su hijo queda como raíz."
   ]
  },
  {
   "cell_type": "markdown",
   "metadata": {},
   "source": [
    "### Costo de las operaciones\n",
    "\n",
    "Dado que el árbol 2-3 tiene altura logarítmica, y que las operaciones de inserción, eliminación y búsqueda hacen una cantidad de trabajo constante en cada nivel, el costo de dichas operaciones en el peor caso es $\\Theta(\\log{n})$."
   ]
  },
  {
   "cell_type": "markdown",
   "metadata": {},
   "source": [
    "## Árboles B (_B-trees_)\n",
    "\n",
    "Los árboles 2-3 se pueden generalizar a árboles con un mayor número de hijos.\n",
    "La idea es que cuando un nodo excede el número máximo de hijos (y de llaves) permitidos, se divide en dos (_split_), con la mitad de los hijos cada uno.\n",
    "\n",
    "Más precisamente, supongamos que $t\\ge 2$ es un parámetro fijo, y permitimos que todo nodo tenga un mínimo de $t$ y un máximo de $2t-1$ hijos. Un nodo con $k$ hijos tiene $k-1$ llaves, que actúan como separadoras entre sus hijos.\n",
    "\n",
    "Los árboles 2-3 son árboles B con $t=2$. En la práctica, los árboles $B$ se implementan con valores mucho más grandes de $t$, por ejemplo $t=100$.\n",
    "\n",
    "La motivación para utilizar valores altos de $t$ es hacer coincidir el tamaño del nodo con la capacidad de un bloque de disco (memoria secundaria). Ésta es memoria masiva de acceso más lento que la memoria cental del computador (memoria RAM), y al tener un grado alto de ramificación, el árbol tiene muy pocos niveles. Gracias a esto, el número de accesos a disco para implementar las operaciones es también muy pequeño."
   ]
  },
  {
   "cell_type": "markdown",
   "metadata": {},
   "source": [
    "### Inserción en un árbol B\n",
    "\n",
    "* La nueva llave, junto con una nueva hoja, se agregan en el nodo correspondiente en el nivel inferior del árbol.\n",
    "\n",
    "* Si ese nodo queda saturado (_overflow_), es decir, si queda con $2t$ hijos y $2t-1$ llaves, se divide en dos nodos con $t$ hijos y $t-1$ llaves cada uno. La llave sobrante, que debe ser la mediana del conjunto de llaves, sube al padre como separador de estos dos nuevos nodos.\n",
    "\n",
    "* Si a causa de esto el padre queda saturado, se repite el procedimiento un nivel más arriba.\n",
    "\n",
    "* El peor caso es que la raíz llegue a estar saturada. En ese caso, la raíz se divide en dos nodos y se crea un nuevo nodo binario como padre de ellos. Este nodo es la nueva raíz.\n",
    "\n",
    "Nótese que, debido a lo anterior, la raíz es el único nodo que está exento de la obligación de tener al menos $t$ hijos."
   ]
  },
  {
   "cell_type": "markdown",
   "metadata": {},
   "source": [
    "### Eliminación en un árbol B\n",
    "\n",
    "* Tal como hicimos en el caso de los árboles 2-3, sin perder generalidad, suponemos que la llave a eliminar está en el nivel inferior. Se elimina la llave y una hoja.\n",
    "\n",
    "* Si a causa de esto el nodo queda con menos de $t$ hijos, tenemos dos casos:\n",
    "    * Si el hermano tiene más de $t$ hijos, redistribuimos los hijos y las llaves entre ambos hermanos, mitad y mitad.\n",
    "    * Si el hermano tiene solo $t$ hijos, no le podemos quitar nada. En ese caso, fusionamos ambos nodos, y la llave del padre que los separaba baja al nuevo nodo. Si a causa de eso el padre queda con menos del mínimo de hijos, se repite este procedimiento un nivel más arriba.\n",
    "    * Excepcionalmente, a la raíz se le permite que tenga menos de $t$ hijos, pero si llega a quedar como un nodo unario (sin llaves), se elimina y su hijo queda como nueva raíz.\n",
    "    "
   ]
  },
  {
   "cell_type": "markdown",
   "metadata": {},
   "source": [
    "### Costo de las operaciones en un árbol B\n",
    "\n",
    "En las estructuras de datos implementadas en memoria secundacia, el costo de las operaciones se aproxima por el número de bloques leídos o escritos, y se ignora el costo del procesamiento en memoria RAM. Esta aproximación se justifica porque el acceso a memoria secundaria es mucho más lento que a memoria RAM.\n",
    "\n",
    "En un árbol B, el número de accesos a bloques corresponde al número de niveles del árbol, el cual es logarítmico, pero ese logaritmo es en una base muy grande (entre $t$ y $2t-1$), de modo que en la práctica podemos decir que el costo es \"casi constante\"."
   ]
  },
  {
   "cell_type": "markdown",
   "metadata": {},
   "source": [
    "### Variantes de los árboles B\n",
    "\n",
    "Veremos dos variantes de la definición anterior, que son importantes en la práctica.\n",
    "\n",
    "#### Árboles B*\n",
    "\n",
    "La idea es no hacer un _split_ apenas un nodo se satura, sino ver si el hermano tiene capacidad como para recibir que le enviemos llaves e hijos. El _split_ solo se hace cuando _ambos_ nodos están saturados, y en ese caso se crea un tercer nodo para distribuir entre los tres equitativamente el contenido.\n",
    "\n",
    "En los árboles B, la utilización del espacio (fracción ocupada de un nodo) varía entre 50% y 100%. En un árbol B* la utilización varía entre 66,6% y 100%. Al haber una mayor utilización, el grado de ramificación de los nodos es mayor, y por la altura del árbol es menor.\n",
    "\n",
    "#### Árboles B+\n",
    "\n",
    "En los árboles B+, los datos del conjunto se almacenan en orden ascendente de llave en las hojas. Cada hoja tiene una cierta capacidad máxima (correspondiente a la capacidad del bloque de disco en donde se almacena), y cuando se excede, la hoja se divide en dos, cada una 50% llena. Adicionalmente, las hojas se enlazan en una lista de doble enlace, que permite un recorrido secuencial de los datos en orden ascendente o descendente de llave.\n",
    "\n",
    "La máxima llave de cada hoja (excepto la de la hoja de más a la derecha) se toma como separador y se almacena dentro de los nodos internos del árbol. Nótese que en los nodos internos solo están las llaves y no toda la información que puede acompañarlas, en cambio en las hojas está la información completa.\n",
    "\n",
    "Debido a esto, al hacer una búsqueda, las preguntas se hacen con $\\le/>$ y se debe llegar siempre hasta el nivel de las hojas.\n",
    "\n",
    "El nivel de las hojas se llama en \"_B-file_\", y el conjunto de los nodos internos del árbol se llama el \"_B-index_\".\n",
    "\n",
    "Los árboles B+ son la versión más utilizada, porque permiten hacer tanto recorridos secuenciales como búsqueda eficientes en memoria secundaria."
   ]
  },
  {
   "cell_type": "markdown",
   "metadata": {},
   "source": [
    "## Árboles Digitales\n",
    "\n",
    "En esta sección exploramos una manera distinta de almacenar un diccionario usando árboles.\n",
    "Hasta ahora hemos supuesto que las llaves pertenecen a algún conjunto ordenado, pero no hemos hecho ninguna suposición respecto de la estructura interna de las llaves. Ahora vamos a suponer que toda llave $X$ se representa como una secuencias de bits:\n",
    "\n",
    "$$\n",
    "X = b_0 b_1 \\ldots b_k\n",
    "$$\n",
    "\n",
    "Vamos a suponer también que ninguna secuencia de bits asociada a una llave es prefijo de la secuencia de bits de otra llave. Esto se cumple trivialmente si todas las llaves son del mismo largo.\n",
    "\n",
    "En los ejemplos vamos a considerar el siguiente conjunto de llaves:\n",
    "\n",
    "```\n",
    "A = 00100\n",
    "B = 01000\n",
    "C = 01111\n",
    "D = 11000\n",
    "E = 11101\n",
    "```\n",
    "\n",
    "### Árboles digitales o \"_tries_\"\n",
    "\n",
    "Un _trie_ es un árbol binario cuyos nodos internos solo se utilizan como puntos de ramificación, para separar las llaves según los bits que la componen.\n",
    "Por convención, supondremos que las llaves que tienen un bit $0$ en una posición dada se van hacia la izquierda, y las que tienen un $1$ se van hacia la derecha. Cuando se llega a que la secuencia de bits identifica a solo una posible llave, se coloca una hoja que contiene a dicha llave en su interior. Por ejemplo:\n",
    "\n",
    "![trie](trie.png)\n",
    "\n",
    "Nótese que una hoja puede ser vacía. Esto ocurre si no hay ninguna llave que comience con ese prefijo, pero en la rama opuesta hay más de una llave."
   ]
  },
  {
   "cell_type": "markdown",
   "metadata": {},
   "source": [
    "#### Búsqueda en un _trie_\n",
    "\n",
    "Para buscar una llave $X$ en un _trie_ se procede de la siguiente manera:\n",
    "\n",
    "* Se examinan los bits comenzando desde el bit $b_0$ en adelante.\n",
    "* Si $b_i=0$, se avanza por la rama izquierda y se pasa a examinar el siguiente bit, $b_{i+1}$.\n",
    "* Si $b_i=1$, se avanza por la rama derecha y se pasa a examinar el suguiente bit.\n",
    "* El proceso termina cuando se llega a una hoja, único lugar posible en donde puede estar $X$. Si la llave almacenada en esa hoja es igual a $X$, se encontró. Si la hoja está vacía, o contiene una llave distinta de $X$, no está."
   ]
  },
  {
   "cell_type": "markdown",
   "metadata": {},
   "source": [
    "#### Inserción en un _trie_\n",
    "\n",
    "Para insertar una llave $X$ en un _trie_, se realiza una búsqueda infructuosa, y se almacena transitoriamente la llave $X$ en esa hoja.\n",
    "\n",
    "Si la hoja estaba vacía, la llave $X$ queda en ese lugar de manera definitiva.\n",
    "\n",
    "Si la hoja contenía otra llave $Y$, se divide la hoja en dos, colgando desde un nuevo nodo interno, y las llaves se trasladan hacia la hoja que corresponda, según si su siguiente bit es $0$ o $1$. Se repite este proceso en caso de ser necesario, hasta que en ninguna hoja quede más de una llave.\n",
    "\n",
    "Es importante notar que, para un conjunto dado de llaves, el _trie_ resultante es único, de modo que el orden de llegada de las llaves no cambia el resultado final. Uno podría suponer que al principio **todas** las llaves estaban en un única hoja, la cual se fue subdividiendo y subdividiendo hasta que en cada hoja quedó a lo más una llave."
   ]
  },
  {
   "cell_type": "markdown",
   "metadata": {},
   "source": [
    "#### Eliminación en un _trie_\n",
    "\n",
    "Para eliminar una llave $X$ primero se ubica la hoja que la contiene, y se borra la llave, con lo cual la hoja queda vacía. Luego se mira si esta hoja vacía es hermana de otra hoja (la necesariamente sería no vacía) y ambas se fusionan, quedando un nivel más arriba. Se repite este procedimiento hasta que ninguna hoja con una llave quede como hermana de una hoja vacía."
   ]
  },
  {
   "cell_type": "markdown",
   "metadata": {},
   "source": [
    "#### Costo esperado de búsqueda exitosa en un _trie_\n",
    "\n",
    "Los _tries_ tienden a ser mejor balanciados que los ABBs, porque si los bits son uniformemente distribuídos, la probabilidad de que una nueva llave vaya a la izquierda o a la derecha es $1/2$. En un ABB, en cambio, esa probabilidad es proporcional al tamaño del subárbol respectivo, de modo que si un árbol está desbalanceado, tiene una tendencia a desbalancearse más.\n",
    "\n",
    "El análisis matemático del costo esperado de búsqueda es muy complicado, por lo cual solo daremos el resultado sin demostrarlo:\n",
    "\n",
    "$$\n",
    "\\begin{align}\n",
    "C_n &= \\frac{H_n}{\\ln{2}}+\\frac{1}{2}+P(\\log_2{n})\\\\\n",
    "    & \\approx \\log_2{n}+\\frac{\\gamma}{\\ln{2}}+\\frac{1}{2}\n",
    "\\end{align}\n",
    "$$\n",
    "\n",
    "donde $P()$ es una función periódica de muy pequeña amplitud (del orden de $10^{-6}$)."
   ]
  },
  {
   "cell_type": "markdown",
   "metadata": {},
   "source": [
    "### Árboles de Búsqueda Digital\n",
    "\n",
    "Los árboles de búsqueda digital (ABD) son un híbrido entre los ABBs y los _tries_.\n",
    "\n",
    "Las llaves se almacenan en los nodos internos, al igual que en un ABB, pero la ramificación izquierda-derecha se hace según si el siguiente bit es $0$ o $1$.\n",
    "\n",
    "Como los elementos se van insertando en orden de llegada, este orden sí impacta en el resultado final.\n",
    "Por ejemplo, si el orden de llegada de las llaves fuera $B, A, C, D, E$, el resultado sería:\n",
    "\n",
    "![abd](abd.png)\n",
    "\n",
    "El costo esperado de búsqueda en un ABD es levemente menor al de un _trie_, y se puede demostrar que\n",
    "\n",
    "$$\n",
    "C_n \\approx \\log_2{n}+\\frac{\\gamma}{\\ln{2}}-\\frac{1}{2}\n",
    "$$"
   ]
  },
  {
   "cell_type": "code",
   "execution_count": null,
   "metadata": {},
   "outputs": [],
   "source": []
  }
 ],
 "metadata": {
  "kernelspec": {
   "display_name": "Python 3",
   "language": "python",
   "name": "python3"
  },
  "language_info": {
   "codemirror_mode": {
    "name": "ipython",
    "version": 3
   },
   "file_extension": ".py",
   "mimetype": "text/x-python",
   "name": "python",
   "nbconvert_exporter": "python",
   "pygments_lexer": "ipython3",
   "version": "3.7.1"
  }
 },
 "nbformat": 4,
 "nbformat_minor": 2
}
