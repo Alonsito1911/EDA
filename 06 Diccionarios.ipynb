{
 "cells": [
  {
   "cell_type": "markdown",
   "metadata": {},
   "source": [
    "# 6 Diccionarios\n",
    "\n",
    "El TDA Diccionario es uno de los más usados en la práctica, y se conocen mucha formas distintas de implementarlo.\n",
    "\n",
    "Un Diccionario es un conjunto de $n$ elementos, cada uno de los cuales tiene un campo que permite identificarlo de manera única (ese campo se llama su _llave primaria_), sobre el cual están definidas las operaciones de buscar, insertar, eliminar, y ocasionalmente otras que definiremos má adelante.\n",
    "Más precisamente, si $d$ es un diccionario, existirán las operaciones:\n",
    "\n",
    "* `r=d.search(x)`: buscar el elemento de llave `x`, retornar un resultado que permita ubicarlo, o `None`si no está\n",
    "* `d.insert(x)`: insertar un elemento de llave `x`, evitando crear una llave duplicada\n",
    "* `d.delete(x)`: eliminar el elemento de llave `x`, el cual debe estar en el diccionario"
   ]
  },
  {
   "cell_type": "markdown",
   "metadata": {},
   "source": [
    "## Diccionarios de Python\n",
    "\n",
    "El lenguaje Python posee un tipo `dict` que implementa la funcionalidad de diccionarios que hemos descrito (más operaciones adicionales). En un diccionario se busca por una llave y se obtiene un valor asociado."
   ]
  },
  {
   "cell_type": "code",
   "execution_count": 11,
   "metadata": {},
   "outputs": [],
   "source": [
    "distancia = {'Valparaíso':102, 'Concepción': 433, 'Arica': 1664, 'Puerto Montt': 912, 'Rancagua': 80}"
   ]
  },
  {
   "cell_type": "markdown",
   "metadata": {},
   "source": [
    "La forma de buscar es simplemente usando la llave como subíndice:"
   ]
  },
  {
   "cell_type": "code",
   "execution_count": 12,
   "metadata": {},
   "outputs": [
    {
     "name": "stdout",
     "output_type": "stream",
     "text": [
      "1664\n"
     ]
    }
   ],
   "source": [
    "print(distancia['Arica'])"
   ]
  },
  {
   "cell_type": "markdown",
   "metadata": {},
   "source": [
    "Y la forma de agregar una nueva llave es asignándole un valor:"
   ]
  },
  {
   "cell_type": "code",
   "execution_count": 13,
   "metadata": {},
   "outputs": [],
   "source": [
    "distancia['Talca']=237"
   ]
  },
  {
   "cell_type": "markdown",
   "metadata": {},
   "source": [
    "Al buscar una llave inexistente se produce una excepción:"
   ]
  },
  {
   "cell_type": "code",
   "execution_count": 14,
   "metadata": {},
   "outputs": [
    {
     "ename": "KeyError",
     "evalue": "'La Serena'",
     "output_type": "error",
     "traceback": [
      "\u001b[0;31m---------------------------------------------------------------------------\u001b[0m",
      "\u001b[0;31mKeyError\u001b[0m                                  Traceback (most recent call last)",
      "\u001b[0;32m<ipython-input-14-0078e5a2585d>\u001b[0m in \u001b[0;36m<module>\u001b[0;34m\u001b[0m\n\u001b[0;32m----> 1\u001b[0;31m \u001b[0mprint\u001b[0m\u001b[0;34m(\u001b[0m\u001b[0mdistancia\u001b[0m\u001b[0;34m[\u001b[0m\u001b[0;34m'La Serena'\u001b[0m\u001b[0;34m]\u001b[0m\u001b[0;34m)\u001b[0m\u001b[0;34m\u001b[0m\u001b[0;34m\u001b[0m\u001b[0m\n\u001b[0m",
      "\u001b[0;31mKeyError\u001b[0m: 'La Serena'"
     ]
    }
   ],
   "source": [
    "print(distancia['La Serena'])"
   ]
  },
  {
   "cell_type": "markdown",
   "metadata": {},
   "source": [
    "Pero hay una forma de buscar sin que dé un error, sino que retorne `None`:"
   ]
  },
  {
   "cell_type": "code",
   "execution_count": 15,
   "metadata": {},
   "outputs": [
    {
     "name": "stdout",
     "output_type": "stream",
     "text": [
      "80 None\n"
     ]
    }
   ],
   "source": [
    "print(distancia.get('Rancagua'), distancia.get('La Serena'))"
   ]
  },
  {
   "cell_type": "markdown",
   "metadata": {},
   "source": [
    "Para eliminar un dato, se usa `pop` (lo elimina y retrna su valor):"
   ]
  },
  {
   "cell_type": "code",
   "execution_count": 16,
   "metadata": {},
   "outputs": [
    {
     "data": {
      "text/plain": [
       "80"
      ]
     },
     "execution_count": 16,
     "metadata": {},
     "output_type": "execute_result"
    }
   ],
   "source": [
    "distancia.pop('Rancagua')"
   ]
  },
  {
   "cell_type": "markdown",
   "metadata": {},
   "source": [
    "Aparte de esto, hay muchas otras operaciones que permiten obtener la lista de todas las llaves, etc.\n",
    "\n",
    "Dado que en Python ya existe una implementación de diccionarios, ¿por qué querríamos estudiar nosotros cómo implementarlos?\n",
    "\n",
    "La respuesta está en que, si nosotros controlamos todos los detalles de una implementación, sabremos exactamente cuan eficiente es, y para qué tipo de aplicaciones es más apropiada. Lo último es particularmente importante, porque no hay ninguna implementación de diccionarios que sea uniformemente mejor que las otras para todas las aplicaciones.\n",
    "\n",
    "Estudiaremos entonces cómo se puede implementar un diccionario, comenzando por las estrategias más sencillas, y avanzando hacia enfoques más sofisticados.\n",
    "\n",
    "En nuestros ejemplos supondremos que solo almacenamos la llave, pero en la práctica siempre habrá información adicional asociada a cada llave. También por simplicidad a menudo usaremos llaves numéricas, aunque en la práctica es más frecuente que las llaves sean strings."
   ]
  },
  {
   "cell_type": "markdown",
   "metadata": {},
   "source": [
    "## Búsqueda secuencial\n",
    "\n",
    "La manera más simple de implementar un diccionario es con una lista desordenada de llaves, en la cual se hace búsqueda secuencial. La inserción es especialmente eficiente si obviamos chequear por duplicados, y la eliminación es eficiente una vez que sabemos dónde está la llave."
   ]
  },
  {
   "cell_type": "code",
   "execution_count": 17,
   "metadata": {},
   "outputs": [],
   "source": [
    "import numpy as np"
   ]
  },
  {
   "cell_type": "code",
   "execution_count": 20,
   "metadata": {},
   "outputs": [],
   "source": [
    "class Lista_secuencial:\n",
    "    def __init__(self, size=100):\n",
    "        self.a=np.zeros(size,dtype=int)\n",
    "        self.n=0\n",
    "    def insert(self,x):\n",
    "        assert self.n<len(self.a)\n",
    "        self.a[self.n]=x\n",
    "        self.n+=1\n",
    "    def search(self,x):\n",
    "        for k in range(0,self.n):\n",
    "            if self.a[k]==x:\n",
    "                return k\n",
    "        return None\n",
    "    def delete(self,x):\n",
    "        k=self.search(x)\n",
    "        self.a[k]=self.a[self.n-1] # modemos el último al lugar vacante\n",
    "        self.n-=1"
   ]
  },
  {
   "cell_type": "code",
   "execution_count": 22,
   "metadata": {},
   "outputs": [
    {
     "name": "stdout",
     "output_type": "stream",
     "text": [
      "1\n",
      "None\n",
      "None\n"
     ]
    }
   ],
   "source": [
    "d=Lista_secuencial()\n",
    "d.insert(30)\n",
    "d.insert(10)\n",
    "d.insert(25)\n",
    "print(d.search(10))\n",
    "print(d.search(80))\n",
    "d.delete(30)\n",
    "print(d.search(30))"
   ]
  },
  {
   "cell_type": "markdown",
   "metadata": {},
   "source": [
    "La búsqueda secuencial también se puede implementar con una lista enlazada, en cuyo caso será más simple insertar al inicio.\n",
    "\n",
    "En cualquier caso, la búsqueda demora tiempo $\\Theta(n)$.\n",
    "Para estimar el costo promedio, suponemos que todos los elementos son igualmente probables de ser accesados y que el costo de buscar a un elemento que es el $k$-ésimo de la lista es $k$. Por lo tanto, el costo promedio es\n",
    "\n",
    "$$\n",
    "\\frac{1}{n}\\sum_{1\\le k \\le n} k = \\frac{n+1}{2}=\\Theta(n)\n",
    "$$\n",
    "\n",
    "Por lo tanto, este tipo de implementación solo será adecuada para conjuntos muy pequeños."
   ]
  },
  {
   "cell_type": "markdown",
   "metadata": {},
   "source": [
    "## Búsqueda secuencial con probabilidades de acceso no uniformes\n",
    "\n",
    "En la práctica, es muy raro que las probabilidades de acceso a los elementos sean uniformes. Con frecuencia hay algunos elementos que son mucho más populares que otros, y empíricamente a menudo se observan distribuciones de tipo \"ley de potencias\", con probabilidades de tipo\n",
    "\n",
    "$$\n",
    "p_k \\propto \\frac{1}{k^{\\alpha}}\n",
    "$$\n",
    "\n",
    "para algún $\\alpha$. Para el caso $\\alpha=1$ esto se llama Ley de Zipf.\n",
    "\n",
    "Si un conjunto de datos tiene elementos con probabilidades de acceso diferentes, entonces para la búsqueda secuencial el orden en que estén los elementos en la lista hace una diferencia.\n",
    "\n",
    "### Caso 1. Probabilidades conocidas\n",
    "\n",
    "Si las probabilidades de acceso son conocidas, es fácil ver que el orden óptimo es en orden decreciente de probabilidad.\n",
    "\n",
    "Más precisamente, si los elementos son $X_1, X_2,\\ldots,X_n$ con probabilidades de acceso $p_1,p_2,\\ldots,p_n$ respectivamente, y si están ordenados de modo que $p_1\\ge p_2\\ge p_3\\ge \\cdots$, entonces el costo esperado de búsqueda óptimo es\n",
    "\n",
    "$$\n",
    "C_{OPT} = \\sum_{1\\le k\\le n} k p_k\n",
    "$$\n",
    "\n",
    "Tomemos como ejemplo el capítulo 1 de \"El Quijote\" (en minúsculas y sin puntuación para simplificar su proceso):\n",
    "\n",
    "```\n",
    "en un lugar de la mancha de cuyo nombre no quiero acordarme no ha mucho\n",
    "tiempo que vivía un hidalgo de los de lanza en astillero adarga antigua\n",
    "...\n",
    "peregrino y significativo como todos los demás que a él y a sus cosas\n",
    "había puesto\n",
    "```\n",
    "\n",
    "Ese texto está en el archivo `cap1.txt`, tiene 1878 palabras en total, hay 717 palabras diferentes, y sus frecuencias de aparición, en orden decreciente, son:\n",
    "\n",
    "```\n",
    " 120 de\n",
    " 105 y\n",
    "  88 que\n",
    "  44 a\n",
    "  40 el\n",
    "  38 en\n",
    "  35 su\n",
    "  33 la\n",
    "  ...\n",
    "```\n",
    "\n",
    "Dividiendo cada frecuencia por 1878 para obtener probabilidades y calculando con la fórmula anterior, da que el costo esperado de búsqueda en una lista secuencial ordenada de manera óptima es $C_{OPT} = 157.80$.\n",
    "\n",
    "### Caso 2: Probabilidades desconocidas\n",
    "\n",
    "Cuando las probabilidades son desconocidas, existen estrategias que van reordenando la lista dinámicamente a medida que los elementos son buscados, de modo de tratar de aproximar el orden óptimo. Hay dos técnicas que dan buenos resultados: \"traspose\" (TR) y \"move to front\" (MTF)."
   ]
  },
  {
   "cell_type": "markdown",
   "metadata": {},
   "source": [
    "### Transpose\n",
    "\n",
    "Esta técnica consiste en que cada vez que un elemento es accesado, se le mueve un lugar más adelante en la lista (a menos que ya esté en el primer lugar). Si un elemento no se encuentra, simulamos como si hubiese estado al final de la lista.\n",
    "\n",
    "Esto se puede implementar ya sea en un arreglo o en una lista enlazada. En la siguiente implementación usaremos una lista enlazada con cabecera.\n",
    "\n",
    "Para contabilizar el costo, el método `search` retorna el número de comparaciones de llaves que se hizo en la búsqueda."
   ]
  },
  {
   "cell_type": "code",
   "execution_count": 127,
   "metadata": {},
   "outputs": [],
   "source": [
    "class NodoLista:\n",
    "    def __init__(self,info,sgte=None):\n",
    "        self.info=info\n",
    "        self.sgte=sgte\n",
    "        \n",
    "class Lista_TR:\n",
    "    def __init__(self):\n",
    "        self.cabecera=NodoLista(0)\n",
    "        \n",
    "    def search(self,x): # busca x (si no está lo inserta al final) y lo adelanta un lugar\n",
    "                        # retorna el costo de búsqueda\n",
    "        p=self.cabecera\n",
    "        q=p.sgte\n",
    "        if q is None: # lista vacía, agregamos x\n",
    "            p.sgte=NodoLista(x,None)\n",
    "            return 1\n",
    "        if q.info==x: # x está primero en la lista\n",
    "            return 1\n",
    "        # buscamos del segundo en adelante\n",
    "        r=q.sgte\n",
    "        k=2 # cuenta el número de comparaciones de llaves\n",
    "        while r is not None and r.info!=x:\n",
    "            (p,q,r)=(q,r,r.sgte)\n",
    "            k+=1\n",
    "        if r is None: # no estaba, lo agregamos al final\n",
    "            r=NodoLista(x,None)\n",
    "            q.sgte=r\n",
    "            \n",
    "        # r apunta al elemento buscado, lo movemos un lugar hacia adelante\n",
    "        (p.sgte,q.sgte,r.sgte)=(r,r.sgte,q)\n",
    "        return k\n",
    "\n",
    "    def imprimir(self):\n",
    "        p=self.cabecera.sgte\n",
    "        print(\"[\",end=\" \")\n",
    "        while p is not None:\n",
    "            print(p.info,end=\" \")\n",
    "            p=p.sgte\n",
    "        print(\"]\")"
   ]
  },
  {
   "cell_type": "code",
   "execution_count": 128,
   "metadata": {},
   "outputs": [],
   "source": [
    "def test(Lista_adaptativa): # test interactivo\n",
    "    a=Lista_adaptativa()\n",
    "    while True:\n",
    "        x=input(\"x=\")\n",
    "        if x==\"fin\":\n",
    "            return\n",
    "        print(\"costo=\",a.search(x),end=\" \")\n",
    "        a.imprimir()"
   ]
  },
  {
   "cell_type": "code",
   "execution_count": 129,
   "metadata": {},
   "outputs": [
    {
     "name": "stdout",
     "output_type": "stream",
     "text": [
      "x=hola\n",
      "costo= 1 [ hola ]\n",
      "x=chao\n",
      "costo= 2 [ chao hola ]\n",
      "x=casa\n",
      "costo= 3 [ chao casa hola ]\n",
      "x=hola\n",
      "costo= 3 [ chao hola casa ]\n",
      "x=hola\n",
      "costo= 2 [ hola chao casa ]\n",
      "x=hola\n",
      "costo= 1 [ hola chao casa ]\n",
      "x=fin\n"
     ]
    }
   ],
   "source": [
    "test(Lista_TR)"
   ]
  },
  {
   "cell_type": "code",
   "execution_count": 130,
   "metadata": {},
   "outputs": [],
   "source": [
    "def procesa(archivo,Lista_adaptativa): # lee el archivo y calcula costo promedio de búsqueda\n",
    "    f=open(archivo,\"r\")\n",
    "    texto=f.read()\n",
    "    palabras=texto.split()\n",
    "    npalabras=0\n",
    "    costo_acum=0\n",
    "    a=Lista_adaptativa()\n",
    "    for x in palabras:\n",
    "        costo_acum+=a.search(x)\n",
    "        npalabras+=1\n",
    "    print(\"Costo promedio de búsqueda=\",costo_acum/npalabras)\n",
    "    f.close()"
   ]
  },
  {
   "cell_type": "code",
   "execution_count": 131,
   "metadata": {},
   "outputs": [
    {
     "name": "stdout",
     "output_type": "stream",
     "text": [
      "Costo promedio de búsqueda= 208.73908413205538\n"
     ]
    }
   ],
   "source": [
    "procesa(\"cap1.txt\",Lista_TR)"
   ]
  },
  {
   "cell_type": "markdown",
   "metadata": {},
   "source": [
    "### Move-To-Front\n",
    "\n",
    "Esta técnica consiste en que cada vez que un elemento es accesado, se le mueve al primer lugar de la lista (a menos que ya esté en el primer lugar). Si un elemento no se encuentra, simulamos como si hubiese estado al final de la lista."
   ]
  },
  {
   "cell_type": "code",
   "execution_count": 132,
   "metadata": {},
   "outputs": [],
   "source": [
    "class Lista_MTF:\n",
    "    def __init__(self):\n",
    "        self.cabecera=NodoLista(0)\n",
    "        \n",
    "    def search(self,x): # busca x (si no está lo inserta al final) y luego lo mueve al primer lugar\n",
    "        # retorna el costo de búsqueda\n",
    "        p=self.cabecera\n",
    "        q=p.sgte\n",
    "        k=1 # cuenta el número de comparaciones de llaves\n",
    "        while q is not None and q.info!=x:\n",
    "            (p,q)=(q,q.sgte)\n",
    "            k+=1\n",
    "        if q is None: # no estaba, lo agregamos al final\n",
    "            q=NodoLista(x,None)\n",
    "            p.sgte=q\n",
    "        if k>1:  # x no está primero, move to front\n",
    "            (self.cabecera.sgte,p.sgte,q.sgte)=(q,q.sgte,self.cabecera.sgte)    \n",
    "        return k\n",
    "\n",
    "    def imprimir(self):\n",
    "        p=self.cabecera.sgte\n",
    "        print(\"[\",end=\" \")\n",
    "        while p is not None:\n",
    "            print(p.info,end=\" \")\n",
    "            p=p.sgte\n",
    "        print(\"]\")"
   ]
  },
  {
   "cell_type": "code",
   "execution_count": 134,
   "metadata": {
    "scrolled": true
   },
   "outputs": [
    {
     "name": "stdout",
     "output_type": "stream",
     "text": [
      "x=hola\n",
      "costo= 1 [ hola ]\n",
      "x=chao\n",
      "costo= 2 [ chao hola ]\n",
      "x=casa\n",
      "costo= 3 [ casa chao hola ]\n",
      "x=hola\n",
      "costo= 3 [ hola casa chao ]\n",
      "x=casa\n",
      "costo= 2 [ casa hola chao ]\n",
      "x=casa\n",
      "costo= 1 [ casa hola chao ]\n",
      "x=fin\n"
     ]
    }
   ],
   "source": [
    "test(Lista_MTF)"
   ]
  },
  {
   "cell_type": "code",
   "execution_count": 135,
   "metadata": {},
   "outputs": [
    {
     "name": "stdout",
     "output_type": "stream",
     "text": [
      "Costo promedio de búsqueda= 188.82055378061767\n"
     ]
    }
   ],
   "source": [
    "procesa(\"cap1.txt\",Lista_MTF)"
   ]
  },
  {
   "cell_type": "markdown",
   "metadata": {},
   "source": [
    "En resumen, tenemos que para este texto en particular, el costo óptimo es 157.80, el costo promedio de TR es 208.74 y el de MTF es 188.82.\n",
    "\n",
    "Si en lugar de considerar un caso se analiza matemáticamente el caso general, suponiendo que los accesos llegan independientemente siguiendo la distribución dada y que el algoritmo corre durante un tiempo que tiende a infinito, se puede demostrar que\n",
    "\n",
    "$$\n",
    "C_{OPT} \\le C_{TR} \\le C_{MTF} \\le \\frac{\\pi}{2} C_{OPT}\n",
    "$$"
   ]
  },
  {
   "cell_type": "markdown",
   "metadata": {},
   "source": [
    "## Búsqueda en un arreglo ordenado: Búsqueda Binaria\n",
    "\n",
    "Ya hemos visto anteriormente que si los datos están en un arreglo ordenado, podemos hacer una búsqueda binaria, la que demora tiempo $\\lceil\\log_2{(n+1)}\\rceil=\\Theta(\\log{n})$ en el peor caso.\n",
    "\n",
    "Esto es bastante eficiente, pero tiene el problema que agregar o eliminar datos del arreglo toma tiempo $\\Theta(n)$ en el peor caso, por la necesidad de mantener el conjunto ordenado y compacto.\n",
    "Un objetivo que perseguiremos en el resto de este capítulo es tratar de encontrar estructuras de datos que nos permitan buscar de manera tan eficiente como la búsqueda binaria, junto con inserciones y eliminaciones igualmente eficientes.\n",
    "\n",
    "Pero antes de avanzar en esa dirección, consideremos la pregunta de si es posible buscar má rápido que la búsqueda binaria en el peor caso.\n",
    "\n",
    "### Cota inferior para la búsqueda por comparaciones\n",
    "\n",
    "Consideremos el problema de buscar una llave $x$ en un conjunto de tamaño 4, digamos $\\{a,b,c,d\\}$, con $a<b<c<d$. La siguiente figura ilustra una manera como podría hacerse esa búsqueda:\n",
    "\n",
    "![decision-tree](decision-tree.png)\n",
    "\n",
    "Este tipo de figura se llama un _árbol de decisión_, y en él los rombos representan preguntas y los rectángulos, las salidas (outputs) del algoritmo.\n",
    "\n",
    "Este árbol de decisión es uno entre la infinidad de árboles que podrían resolver el problema de la búsqueda. Lo importante que hay que observar es que todo algoritmo que funcione mediante comparaciones binarias (comparaciones con salidas \"Sí/No\") se puede representar por un árbol de decisión.\n",
    "\n",
    "En este tipo de árbol tenemos que:\n",
    "\n",
    "* La altura representa el número de comparaciones que hace el algoritmo en el peor caso, y\n",
    "* El número de hojas (cajas rectangulares) debe ser mayor o igual al número de respuestas posibles que debe ser capaz de emitir el algoritmo.\n",
    "\n",
    "Recordemos que si $N$ es el número de hojas y $h$ la altura, siempre se tiene $N\\le 2^h$, de donde se deduce que\n",
    "$h \\ge \\lceil\\log_2{N}\\rceil$ (porque la altura es un número entero), y en consecuencia, tenemos que\n",
    "\n",
    "$$\n",
    "\\text{Peor caso} \\ge \\lceil\\log_2{(\\text{número de respuestas distintas})}\\rceil\n",
    "$$\n",
    "\n",
    "Para el caso de la búsqueda binaria, tenemos que $N=n+1$, porque el algoritmo de búsqueda debe poder identificar a cada uno de los $n$ elementos, más la respuesta negativa cuando el elemento buscado no está. En consecuencia:\n",
    "\n",
    "**Todo algoritmo que busque en un conjunto de tamaño $n$ mediante comparaciones binarias debe hacer al menos\n",
    "$\\lceil\\log_2{(n+1)}\\rceil$ comparaciones en el peor caso.**\n",
    "\n",
    "Por lo tanto, la búsqueda binaria es óptima."
   ]
  },
  {
   "cell_type": "code",
   "execution_count": null,
   "metadata": {},
   "outputs": [],
   "source": []
  }
 ],
 "metadata": {
  "kernelspec": {
   "display_name": "Python 3",
   "language": "python",
   "name": "python3"
  },
  "language_info": {
   "codemirror_mode": {
    "name": "ipython",
    "version": 3
   },
   "file_extension": ".py",
   "mimetype": "text/x-python",
   "name": "python",
   "nbconvert_exporter": "python",
   "pygments_lexer": "ipython3",
   "version": "3.7.1"
  }
 },
 "nbformat": 4,
 "nbformat_minor": 2
}
